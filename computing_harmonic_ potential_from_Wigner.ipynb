{
 "cells": [
  {
   "cell_type": "code",
   "execution_count": 1,
   "metadata": {},
   "outputs": [],
   "source": [
    "from __future__ import division\n",
    "import os, sys, time, random\n",
    "import math\n",
    "import scipy\n",
    "from scipy import constants\n",
    "import torch\n",
    "from torch import nn, optim\n",
    "from torch import autograd\n",
    "from torch.autograd import grad\n",
    "import autograd.numpy as np\n",
    "from torch.utils.data import Dataset, DataLoader\n",
    "from torch.autograd.variable import Variable\n",
    "from torchvision import transforms, datasets\n",
    "import matplotlib.pyplot as plt\n",
    "from torch.nn import functional as F\n",
    "from scipy.constants import pi\n"
   ]
  },
  {
   "cell_type": "code",
   "execution_count": 3,
   "metadata": {},
   "outputs": [],
   "source": [
    "class Potential(nn.Module):\n",
    "    def __init__(self):\n",
    "        super(Potential,self).__init__()\n",
    "        self.hidden0 = nn.Sequential(\n",
    "            nn.Linear(1,128),\n",
    "            nn.Tanh()\n",
    "        )\n",
    "#         self.hidden1 = nn.Sequential(\n",
    "#             nn.Linear(32,128),\n",
    "#             nn.Tanh()\n",
    "  #      )\n",
    "        self.hidden1 = nn.Sequential(\n",
    "            nn.Linear(128,128),\n",
    "            nn.Tanh()\n",
    "        )\n",
    "        self.out = nn.Sequential(\n",
    "            nn.Linear(128,1)\n",
    "          # nn.Sigmoid()\n",
    "        )\n",
    "    def forward(self, x):\n",
    "        x = self.hidden0(x)\n",
    "        x = x + self.hidden1(x)\n",
    "      #  x = x + self.hidden2(x)\n",
    "        x = self.out(x)\n",
    "        return x"
   ]
  },
  {
   "cell_type": "code",
   "execution_count": 4,
   "metadata": {},
   "outputs": [],
   "source": [
    "#Defining the relevant functions and derivatives\n",
    "#m=1\n",
    "\n",
    "def Wigner(x, p, t):\n",
    "    return (torch.exp(-x**2 - p**2)*(x**2 + p**2 + x*torch.cos(t) - p*torch.sin(t)))\n",
    "\n",
    "\n",
    "def dW_dx(x,p,t): \n",
    "#     return Wigner(x,p,t)* (-2*a**2/h**2 * (p*torch.cos(w*t) + w*x*torch.sin(w*t))* w * torch.sin(w*t) \n",
    "#                                   -2/a**2 * (x* torch.cos(w*t) - p/w * torch.sin(w*t) - b) * torch.cos(w*t))\n",
    "    return torch.exp(-x**2 - p**2)*(-2*x*(x**2 + p**2  - 1) + 2*p*x*torch.sin(t) - 2*x**2*torch.cos(t)+torch.cos(t))\n",
    "\n",
    "def dW_dp(x,p,t): \n",
    "    torch.exp(-x**2 - p**2)*(-2*x*(x**2 + p**2  - 1) + 2*p*x*torch.sin(t) - 2*x**2*torch.cos(t)+torch.cos(t))\n",
    "#     return Wigner(x,p,t)* (-2*a**2/h**2 * (p* torch.cos(w*t) + w*x* torch.sin(w*t))* torch.cos(w*t) \n",
    "#                                    + 2/a**2 * (x* torch.cos(w*t) - p/w * torch.sin(w*t) - b)* 1/w * torch.sin(w*t))\n",
    "    return torch.exp(-x**2 - p**2)*(((2*p**2) - 1)*torch.sin(t)-2*p*(x**2 + p**2  - 1) - 2*p*x*torch.cos(t))\n",
    "def dW_dt(x,p,t): \n",
    "#     return Wigner(x,p,t)* (-2*a**2/h**2 * (p*torch.cos(w*t) + w*x*torch.sin(w*t))*(-p*torch.sin(w*t) + w**2 *x * torch.cos(w*t))\n",
    "#                                   - 2/a**2 * (x* torch.cos(w*t) - p/w * torch.sin(w*t) - b)*(-x*w*torch.sin(w*t) - p* torch.cos(w*t)))\n",
    "    return -torch.exp(-x**2 - p**2)*(p*torch.cos(t)+x*torch.sin(t))\n"
   ]
  },
  {
   "cell_type": "code",
   "execution_count": 5,
   "metadata": {},
   "outputs": [],
   "source": [
    "potential = Potential()\n",
    "\n",
    "optimizer = torch.optim.Adam(potential.parameters(), lr = .001)\n",
    "\n",
    "#implementing Louiville's equation \n",
    "# batch is expected to be of the form [batch_size, 3]\n",
    "def louiville_eqn(batch): \n",
    "   \n",
    "    x_coord = batch[:,0] \n",
    "    x_coord.requires_grad_(True)\n",
    "  #  x_coord =x_coord.view(-1, *x_coord.size()).t()\n",
    "    \n",
    "    \n",
    "                        \n",
    "    p_coord = batch[:,1]\n",
    "    t_coord = batch[:,2]\n",
    "    dwdt = dW_dt(x_coord,p_coord,t_coord)\n",
    "    dwdx = dW_dx(x_coord,p_coord,t_coord)\n",
    "    dwdp = dW_dp(x_coord,p_coord,t_coord)\n",
    "    \n",
    "    x_coord =x_coord.view(-1, *x_coord.size()).t()\n",
    "    \n",
    "    U = potential(x_coord)\n",
    "  \n",
    "    dU = grad(U, x_coord, grad_outputs = torch.ones_like(U), \n",
    "                     create_graph=True, retain_graph=True, \n",
    "                  only_inputs=True,\n",
    "                    allow_unused=True\n",
    "                 )[0]\n",
    "    der = dU.squeeze()\n",
    "    \n",
    "    return dwdt + torch.mul(p_coord,dwdx) - torch.mul(der, dwdp)\n",
    "    "
   ]
  },
  {
   "cell_type": "code",
   "execution_count": 6,
   "metadata": {},
   "outputs": [],
   "source": [
    "class MyDataset(Dataset):\n",
    "    def __init__(self, data, transform=None):\n",
    "        self.data = data.float()\n",
    "        self.transform = transform\n",
    "\n",
    "    def __getitem__(self, index):\n",
    "        x = self.data[index]\n",
    "        if self.transform:\n",
    "            x = self.transform(x)\n",
    "        return x\n",
    "\n",
    "    def __len__(self):\n",
    "        return len(self.data)"
   ]
  },
  {
   "cell_type": "code",
   "execution_count": 7,
   "metadata": {},
   "outputs": [],
   "source": [
    "#Get the right bounds for data\n",
    "data = torch.rand(5000,3)\n",
    "dataset = MyDataset(data)\n",
    "loader = DataLoader(dataset, batch_size = 32, shuffle = True)\n"
   ]
  },
  {
   "cell_type": "code",
   "execution_count": null,
   "metadata": {},
   "outputs": [],
   "source": [
    "num_epochs = 1000\n",
    "loss = []\n",
    "x = torch.tensor([0.0])\n",
    "for epoch in range(num_epochs):\n",
    "    for n_batch, batch in enumerate(loader):\n",
    "        n_data = Variable(batch, requires_grad=True)\n",
    "       \n",
    "        optimizer.zero_grad()\n",
    "      \n",
    "       \n",
    "        error = (100*louiville_eqn(n_data)**2).mean() + 100*potential(x)**2\n",
    " \n",
    "        error.backward(retain_graph=True)\n",
    "      # torch.nn.utils.clip_grad_norm_(potential.parameters(), .9)\n",
    "       \n",
    "        optimizer.step()\n",
    "    loss.append(error)\n",
    "    print(loss)\n",
    "  "
   ]
  },
  {
   "cell_type": "code",
   "execution_count": null,
   "metadata": {},
   "outputs": [],
   "source": [
    "x_coord = data[:,0]\n",
    "x_coord =x_coord.view(-1, *x_coord.size()).t()\n",
    "    \n",
    "plt.scatter(x_coord.detach().numpy(), potential.cpu()(x_coord).detach().numpy())"
   ]
  },
  {
   "cell_type": "code",
   "execution_count": 16,
   "metadata": {},
   "outputs": [
    {
     "data": {
      "image/png": "[encoded data removed]",
      "text/plain": [
       "<Figure size 432x288 with 1 Axes>"
      ]
     },
     "metadata": {
      "needs_background": "light"
     },
     "output_type": "display_data"
    }
   ],
   "source": [
    "plt.scatter(x_coord.detach().numpy(),.5* pow(x_coord.detach().numpy(),2))\n",
    "plt.scatter(x_coord.detach().numpy(), potential(x_coord).detach().numpy())\n",
    "plt.title(\"potential\")\n",
    "plt.legend(['Ground','Learned'])\n",
    "plt.show()"
   ]
  },
  {
   "cell_type": "code",
   "execution_count": 22,
   "metadata": {},
   "outputs": [
    {
     "data": {
      "text/plain": [
       "<matplotlib.collections.PathCollection at 0x2b815d4b01d0>"
      ]
     },
     "execution_count": 22,
     "metadata": {},
     "output_type": "execute_result"
    },
    {
     "data": {
      "image/png": "[encoded data removed]",
      "text/plain": [
       "<Figure size 432x288 with 1 Axes>"
      ]
     },
     "metadata": {
      "needs_background": "light"
     },
     "output_type": "display_data"
    }
   ],
   "source": [
    "x = torch.rand(100,1)\n",
    "plt.scatter(x, potential(x).detach().numpy())"
   ]
  },
  {
   "cell_type": "code",
   "execution_count": null,
   "metadata": {},
   "outputs": [],
   "source": []
  }
 ],
 "metadata": {
  "kernelspec": {
   "display_name": "Python 3",
   "language": "python",
   "name": "python3"
  },
  "language_info": {
   "codemirror_mode": {
    "name": "ipython",
    "version": 3
   },
   "file_extension": ".py",
   "mimetype": "text/x-python",
   "name": "python",
   "nbconvert_exporter": "python",
   "pygments_lexer": "ipython3",
   "version": "3.7.6"
  }
 },
 "nbformat": 4,
 "nbformat_minor": 2
}
