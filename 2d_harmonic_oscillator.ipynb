{
 "cells": [
  {
   "cell_type": "code",
   "execution_count": 1,
   "metadata": {},
   "outputs": [],
   "source": [
    "from __future__ import division\n",
    "import os, sys, time, random\n",
    "import math\n",
    "import scipy\n",
    "from scipy import constants\n",
    "import torch\n",
    "from torch import nn, optim\n",
    "from torch import autograd\n",
    "from torch.autograd import grad\n",
    "import autograd.numpy as np\n",
    "from torch.utils.data import Dataset, DataLoader\n",
    "from torch.autograd.variable import Variable\n",
    "from torchvision import transforms, datasets\n",
    "import matplotlib.pyplot as plt\n",
    "from torch.nn import functional as F\n",
    "from scipy.constants import pi"
   ]
  },
  {
   "cell_type": "code",
   "execution_count": 3,
   "metadata": {},
   "outputs": [],
   "source": [
    "class Potential(nn.Module):\n",
    "    def __init__(self):\n",
    "        super(Potential,self).__init__()\n",
    "        self.hidden0 = nn.Sequential(\n",
    "            nn.Linear(2,128),\n",
    "            nn.Tanh()\n",
    "        )\n",
    "#         self.hidden1 = nn.Sequential(\n",
    "#             nn.Linear(32,128),\n",
    "#             nn.Tanh()\n",
    "#         )\n",
    "        self.hidden1 = nn.Sequential(\n",
    "            nn.Linear(128,128),\n",
    "            nn.Tanh()\n",
    "        )\n",
    "        self.out = nn.Sequential(\n",
    "            nn.Linear(128,1),\n",
    "            nn.Sigmoid()\n",
    "        )\n",
    "        \n",
    "    def forward(self, x):\n",
    "        x = self.hidden0(x)\n",
    "        x = x + self.hidden1(x)\n",
    "      #  x = x + self.hidden2(x)\n",
    "        x = self.out(x)\n",
    "        return x"
   ]
  },
  {
   "cell_type": "code",
   "execution_count": 4,
   "metadata": {},
   "outputs": [],
   "source": [
    "def hermite(n,x):\n",
    "    if n==0:\n",
    "        return 1\n",
    "    elif n==1:\n",
    "        return 2*x\n",
    "    else:\n",
    "        return 2*x*hermite(n-1,x)-2*(n-1)*hermite(n-2,x) #recursion\n",
    "\n",
    "def harmonic(m,h,w,n,x):\n",
    "    #Normalization:\n",
    "    norm=((m*w)/(math.pi*h))**(1/4)\n",
    "    term1=(math.factorial(n))*(2**n)\n",
    "    term2=(hermite(n,x)/math.sqrt(term1))\n",
    "    expterms=(-1.0*m*w*x*x)/(2*h)\n",
    "    #print(norm*term2,expterms,x)\n",
    "    evalh=norm*term2*torch.exp(expterms)\n",
    "    \n",
    "    #print(norm,term1,term2,evalh)\n",
    "    return evalh \n",
    "def init_wave_function(x,y): \n",
    "    return harmonic(1,1,1,2,x)*harmonic(1,1,1,2,y)\n"
   ]
  },
  {
   "cell_type": "code",
   "execution_count": 5,
   "metadata": {},
   "outputs": [],
   "source": [
    "potential = Potential()\n",
    "optimizer = torch.optim.Adam(potential.parameters(), lr = .001)\n",
    "\n",
    "\n",
    "\n",
    "def conservation_energy(batch):\n",
    "    batch.requires_grad_(True)\n",
    "    x_coord = batch[:,0] \n",
    "    x_coord.requires_grad_(True)\n",
    "    y_coord = batch[:,1] \n",
    "    y_coord.requires_grad_(True)\n",
    "    output = init_wave_function(x_coord,y_coord)\n",
    "    output.requires_grad_(True)\n",
    "    potential_energy = potential(batch).squeeze()\n",
    "  #  print(potential_energy.shape)\n",
    "    potential_energy.requires_grad_(True)\n",
    "    #potential_energy = .5*(x_coord**2 + y_coord**2).squeeze()\n",
    "   # print(potential_energy)\n",
    "    dHdx = grad(output, x_coord, grad_outputs = torch.ones_like(x_coord), \n",
    "                    create_graph=True, retain_graph=True, \n",
    "                   only_inputs=True,\n",
    "                   allow_unused=True\n",
    "                  )[0]\n",
    "    d2Hdx2 = grad(dHdx, x_coord, grad_outputs = torch.ones_like(x_coord), \n",
    "                    create_graph=True, retain_graph=True, \n",
    "                   only_inputs=True,\n",
    "                   allow_unused=True\n",
    "                  )[0]\n",
    "    dHdy = grad(output, y_coord, grad_outputs = torch.ones_like(y_coord), \n",
    "                    create_graph=True, retain_graph=True, \n",
    "                   only_inputs=True,\n",
    "                   allow_unused=True\n",
    "                  )[0]\n",
    "    d2Hdy2 = grad(dHdy, y_coord, grad_outputs = torch.ones_like(y_coord), \n",
    "                    create_graph=True, retain_graph=True, \n",
    "                   only_inputs=True,\n",
    "                   allow_unused=True\n",
    "                  )[0]\n",
    "    \n",
    "    \n",
    "    kinetic_energy = d2Hdx2 + d2Hdy2\n",
    "   # print(kinetic_energy.shape)\n",
    "    conserve_energy = kinetic_energy/(2*output) - potential_energy\n",
    "    \n",
    "    return conserve_energy\n",
    "      "
   ]
  },
  {
   "cell_type": "code",
   "execution_count": 8,
   "metadata": {},
   "outputs": [],
   "source": [
    "h = .01\n",
    "\n",
    "def taylor_approx_x(batch): \n",
    "    batch.requires_grad_(True)\n",
    "    x_coord = batch[:,0] \n",
    "    x_coord.requires_grad_(True)\n",
    "    x_coord1 = x_coord + h\n",
    "    x_coord2 = x_coord - h\n",
    "    x1_coord1 = torch.unsqueeze(x_coord1,1)\n",
    "    x2_coord2 = torch.unsqueeze(x_coord2,1)\n",
    "    \n",
    "    y_coord = batch[:,1] \n",
    "    y_coord.requires_grad_(True)\n",
    "    y_coord = torch.unsqueeze(y_coord,1)\n",
    "    batch_forward = torch.cat([x1_coord1,y_coord],1)\n",
    "    batch_back = torch.cat([x2_coord2,y_coord],1)\n",
    "    \n",
    "    partial_x = (conservation_energy(batch_forward) - conservation_energy(batch_back))/(2*h)\n",
    "    return partial_x\n",
    "\n",
    "\n",
    "def taylor_approx_y(batch): \n",
    "    batch.requires_grad_(True)\n",
    "    x_coord = batch[:,0] \n",
    "    x_coord.requires_grad_(True)\n",
    "    x_coord = torch.unsqueeze(x_coord,1)\n",
    "    \n",
    "   # x1_coord = torch.unsqueeze(x1_coord,1)\n",
    "    y_coord = batch[:,1] \n",
    "    y_coord.requires_grad_(True)\n",
    "    y1 = y_coord + h\n",
    "    y2 = y_coord - h\n",
    "    y1_coord = torch.unsqueeze(y1,1)\n",
    "    y2_coord = torch.unsqueeze(y2,1)\n",
    "    batch_forward = torch.cat([x_coord,y1_coord],1)\n",
    "    batch_back = torch.cat([x_coord,y2_coord],1)\n",
    "    \n",
    "    partial_y = (conservation_energy(batch_forward) - conservation_energy(batch_back))/(2*h)\n",
    "    return partial_y\n",
    "    \n",
    "\n"
   ]
  },
  {
   "cell_type": "code",
   "execution_count": 18,
   "metadata": {},
   "outputs": [],
   "source": [
    "data = torch.rand(5000,2)\n",
    "dataset = MyDataset(data)\n",
    "loader = DataLoader(dataset, batch_size = 32, shuffle = True)"
   ]
  },
  {
   "cell_type": "code",
   "execution_count": null,
   "metadata": {},
   "outputs": [],
   "source": [
    "num_epochs = 2000\n",
    "loss = []\n",
    "#x = torch.tensor([0.0,0.0])\n",
    "for epoch in range(num_epochs):\n",
    "    for n_batch, batch in enumerate(loader):\n",
    "        n_data = Variable(batch, requires_grad=True)\n",
    "\n",
    "        optimizer.zero_grad()\n",
    "   \n",
    "       \n",
    "        error = (taylor_approx_x(n_data)**2 + taylor_approx_y(n_data)**2).mean()\n",
    "        \n",
    "        \n",
    " \n",
    "        error.backward(retain_graph=True)\n",
    "    \n",
    "       \n",
    "        optimizer.step()\n",
    "    loss.append(error)\n",
    "    "
   ]
  },
  {
   "cell_type": "code",
   "execution_count": 6,
   "metadata": {},
   "outputs": [],
   "source": [
    "x = torch.rand(100,2)\n",
    "p = potential(x)"
   ]
  },
  {
   "cell_type": "code",
   "execution_count": 7,
   "metadata": {},
   "outputs": [],
   "source": [
    "p1 = conservation_energy(x)"
   ]
  },
  {
   "cell_type": "code",
   "execution_count": 11,
   "metadata": {},
   "outputs": [
    {
     "data": {
      "text/plain": [
       "tensor(1.3127e-05, grad_fn=<MeanBackward0>)"
      ]
     },
     "execution_count": 11,
     "metadata": {},
     "output_type": "execute_result"
    }
   ],
   "source": [
    "#RMSE between ground and learned energies\n",
    "torch.mean((p1+5)**2)"
   ]
  },
  {
   "cell_type": "code",
   "execution_count": 13,
   "metadata": {},
   "outputs": [],
   "source": [
    "x_coord = x[:,0]\n",
    "y_coord = x[:,1]\n",
    "ground = .5*(x_coord**2 + y_coord**2)"
   ]
  },
  {
   "cell_type": "code",
   "execution_count": 16,
   "metadata": {},
   "outputs": [
    {
     "data": {
      "text/plain": [
       "tensor(1.3131e-05, grad_fn=<MeanBackward0>)"
      ]
     },
     "execution_count": 16,
     "metadata": {},
     "output_type": "execute_result"
    }
   ],
   "source": [
    "#RMSE between ground and learned potentials\n",
    "torch.mean((ground - potential(x).squeeze())**2)"
   ]
  },
  {
   "cell_type": "code",
   "execution_count": 19,
   "metadata": {},
   "outputs": [
    {
     "data": {
      "text/plain": [
       "0.003623120202256613"
      ]
     },
     "execution_count": 19,
     "metadata": {},
     "output_type": "execute_result"
    }
   ],
   "source": [
    "np.sqrt(1.3127e-05)"
   ]
  },
  {
   "cell_type": "markdown",
   "metadata": {},
   "source": [
    "The rest of the notebook can be ignored as it is used to generate the 2d energy plot."
   ]
  },
  {
   "cell_type": "code",
   "execution_count": null,
   "metadata": {},
   "outputs": [],
   "source": [
    "x_coord = sample_x(4000,2)\n",
    "learned_energy1 = -conserve_energy(x_coord).detach().numpy()\n",
    "learned_energy1[3000],x_coord.detach().numpy()[3000]"
   ]
  },
  {
   "cell_type": "code",
   "execution_count": 21,
   "metadata": {},
   "outputs": [
    {
     "name": "stdout",
     "output_type": "stream",
     "text": [
      "Collecting plotly\n",
      "  Downloading plotly-4.8.1-py2.py3-none-any.whl (11.5 MB)\n",
      "\u001b[K     |████████████████████████████████| 11.5 MB 3.8 MB/s eta 0:00:01\n",
      "\u001b[?25hRequirement already satisfied: six in ./opt/anaconda3/envs/myenv/lib/python3.7/site-packages (from plotly) (1.14.0)\n",
      "Collecting retrying>=1.3.3\n",
      "  Downloading retrying-1.3.3.tar.gz (10 kB)\n",
      "Building wheels for collected packages: retrying\n",
      "  Building wheel for retrying (setup.py) ... \u001b[?25ldone\n",
      "\u001b[?25h  Created wheel for retrying: filename=retrying-1.3.3-py3-none-any.whl size=11430 sha256=3a920103c2786fb7ef615811ccd13459f7f8979e121845361d6c09780d7b06b5\n",
      "  Stored in directory: /Users/arijitsehanobish/Library/Caches/pip/wheels/f9/8d/8d/f6af3f7f9eea3553bc2fe6d53e4b287dad18b06a861ac56ddf\n",
      "Successfully built retrying\n",
      "Installing collected packages: retrying, plotly\n",
      "Successfully installed plotly-4.8.1 retrying-1.3.3\n",
      "Note: you may need to restart the kernel to use updated packages.\n"
     ]
    }
   ],
   "source": [
    "pip install plotly"
   ]
  },
  {
   "cell_type": "code",
   "execution_count": 47,
   "metadata": {},
   "outputs": [
    {
     "data": {
      "text/plain": [
       "'./2dsystem.html'"
      ]
     },
     "execution_count": 47,
     "metadata": {},
     "output_type": "execute_result"
    }
   ],
   "source": [
    "plot(fig, filename='./2dsystem.html')"
   ]
  },
  {
   "cell_type": "code",
   "execution_count": 66,
   "metadata": {},
   "outputs": [
    {
     "data": {
      "text/html": [
       "        <script type=\"text/javascript\">\n",
       "        window.PlotlyConfig = {MathJaxConfig: 'local'};\n",
       "        if (window.MathJax) {MathJax.Hub.Config({SVG: {font: \"STIX-Web\"}});}\n",
       "        if (typeof require !== 'undefined') {\n",
       "        require.undef(\"plotly\");\n",
       "        requirejs.config({\n",
       "            paths: {\n",
       "                'plotly': ['https://cdn.plot.ly/plotly-latest.min']\n",
       "            }\n",
       "        });\n",
       "        require(['plotly'], function(Plotly) {\n",
       "            window._Plotly = Plotly;\n",
       "        });\n",
       "        }\n",
       "        </script>\n",
       "        "
      ]
     },
     "metadata": {},
     "output_type": "display_data"
    },
    {
     "data": {
      "text/plain": [
       "'./2d_system.html'"
      ]
     },
     "execution_count": 66,
     "metadata": {},
     "output_type": "execute_result"
    }
   ],
   "source": [
    "import numpy as np\n",
    "from itertools import product\n",
    "import plotly.graph_objs as go\n",
    "import plotly.offline as py\n",
    "py.init_notebook_mode(connected=True)\n",
    "# Gen data\n",
    "import plotly.graph_objects as go\n",
    "from plotly.offline import plot\n",
    "# x=X\n",
    "# y=Y\n",
    "Z=(torch.ones(50,50)*5).tolist()\n",
    "trace1 = go.Surface(\n",
    "    contours = {\n",
    "        \"x\": {\"show\": True, \"start\": 0, \"end\": 1, \"size\": 0.1, \"color\":\"white\"},\n",
    "        \"y\": {\"show\": True, \"start\": 0, \"end\": 1, \"size\": 0.1, \"color\":\"white\"},\n",
    "    },\n",
    "x = [0.0000, 0.0204, 0.0408, 0.0612, 0.0816, 0.1020, 0.1224, 0.1429, 0.1633,\n",
    "         0.1837, 0.2041, 0.2245, 0.2449, 0.2653, 0.2857, 0.3061, 0.3265, 0.3469,\n",
    "         0.3673, 0.3878, 0.4082, 0.4286, 0.4490, 0.4694, 0.4898, 0.5102, 0.5306,\n",
    "         0.5510, 0.5714, 0.5918, 0.6122, 0.6327, 0.6531, 0.6735, 0.6939, 0.7143,\n",
    "         0.7347, 0.7551, 0.7755, 0.7959, 0.8163, 0.8367, 0.8571, 0.8776, 0.8980,\n",
    "         0.9184, 0.9388, 0.9592, 0.9796, 1.0000],\n",
    "y = [0.0000, 0.0204, 0.0408, 0.0612, 0.0816, 0.1020, 0.1224, 0.1429, 0.1633,\n",
    "         0.1837, 0.2041, 0.2245, 0.2449, 0.2653, 0.2857, 0.3061, 0.3265, 0.3469,\n",
    "         0.3673, 0.3878, 0.4082, 0.4286, 0.4490, 0.4694, 0.4898, 0.5102, 0.5306,\n",
    "         0.5510, 0.5714, 0.5918, 0.6122, 0.6327, 0.6531, 0.6735, 0.6939, 0.7143,\n",
    "         0.7347, 0.7551, 0.7755, 0.7959, 0.8163, 0.8367, 0.8571, 0.8776, 0.8980,\n",
    "         0.9184, 0.9388, 0.9592, 0.9796, 1.0000],\n",
    "z = Z,colorscale='YlGnBu',showscale=False)\n",
    "trace2 = go.Scatter3d(\n",
    "        x = x_coord.tolist(),\n",
    "        y = y_coord.tolist(),\n",
    "        z = (-p1).tolist(),\n",
    "        mode=\"markers\",\n",
    "        marker=dict(\n",
    "            opacity=.99\n",
    "        )\n",
    "    )\n",
    "traces=[trace1,trace2]\n",
    "# Plot\n",
    "fig = go.Figure(data=traces)\n",
    "plot(fig, filename='./2d_system.html')\n",
    "\n"
   ]
  },
  {
   "cell_type": "code",
   "execution_count": null,
   "metadata": {},
   "outputs": [],
   "source": []
  }
 ],
 "metadata": {
  "kernelspec": {
   "display_name": "Python 3",
   "language": "python",
   "name": "python3"
  },
  "language_info": {
   "codemirror_mode": {
    "name": "ipython",
    "version": 3
   },
   "file_extension": ".py",
   "mimetype": "text/x-python",
   "name": "python",
   "nbconvert_exporter": "python",
   "pygments_lexer": "ipython3",
   "version": "3.7.6"
  }
 },
 "nbformat": 4,
 "nbformat_minor": 2
}
