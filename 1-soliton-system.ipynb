{
 "cells": [
  {
   "cell_type": "code",
   "execution_count": null,
   "metadata": {},
   "outputs": [],
   "source": [
    "#k = sqrt(2), mu=1,alpha=1, wavefunction is :\n",
    "#u(x,t) = 2 sech(\\sqrt(2)(x-2t))e^{i (x+t)}"
   ]
  },
  {
   "cell_type": "code",
   "execution_count": null,
   "metadata": {},
   "outputs": [],
   "source": [
    "from __future__ import division\n",
    "import os, sys, time, random\n",
    "import math\n",
    "import scipy\n",
    "from scipy import constants\n",
    "import torch\n",
    "from torch import nn, optim\n",
    "from torch import autograd\n",
    "from torch.autograd import grad\n",
    "import autograd.numpy as np\n",
    "from torch.utils.data import Dataset, DataLoader\n",
    "from torch.autograd.variable import Variable\n",
    "from torchvision import transforms, datasets\n",
    "import matplotlib.pyplot as plt\n",
    "from torch.nn import functional as F\n",
    "from scipy.constants import pi"
   ]
  },
  {
   "cell_type": "code",
   "execution_count": null,
   "metadata": {},
   "outputs": [],
   "source": [
    "class Potential(nn.Module):\n",
    "    def __init__(self):\n",
    "        super(Potential,self).__init__()\n",
    "        self.hidden0 = nn.Sequential(\n",
    "            nn.Linear(2,128),\n",
    "            nn.Tanh()\n",
    "        )\n",
    "#         self.hidden1 = nn.Sequential(\n",
    "#             nn.Linear(32,128),\n",
    "#             nn.Tanh()\n",
    "#         )\n",
    "        self.hidden1 = nn.Sequential(\n",
    "            nn.Linear(128,128),\n",
    "            nn.Tanh()\n",
    "        )\n",
    "        self.out = nn.Sequential(\n",
    "            nn.Linear(128,1)\n",
    "         #   nn.Sigmoid()\n",
    "        )\n",
    "        \n",
    "    def forward(self, x):\n",
    "        x = self.hidden0(x)\n",
    "        x = x + self.hidden1(x)\n",
    "     #   x = x + self.hidden2(x)\n",
    "        x = self.out(x)\n",
    "        return x"
   ]
  },
  {
   "cell_type": "code",
   "execution_count": null,
   "metadata": {},
   "outputs": [],
   "source": [
    "def sech(x):\n",
    "    return 2/(torch.exp(x)+torch.exp(-x))\n",
    "\n",
    "def init_wave_function(x,t):\n",
    "    return 2*sech(np.sqrt(2)*(x-(2*t)))*torch.cos(x+t), 2*sech(np.sqrt(2)*(x-(2*t)))*torch.sin(x+t)"
   ]
  },
  {
   "cell_type": "code",
   "execution_count": null,
   "metadata": {},
   "outputs": [],
   "source": [
    "#imposing the Schrodinger equation \n",
    "#iu_t + u_xx + Vu =0 , \n",
    "def u_xx(batch): \n",
    "    batch.requires_grad_(True)\n",
    "    x = batch[:,0]\n",
    "    x.requires_grad_(True)\n",
    "    t = batch[:,1]\n",
    "    t.requires_grad_(True)\n",
    "    output = init_wave_function(x,t)\n",
    "    output_real = init_wave_function(x,t)[0]\n",
    "    output_complex = init_wave_function(x,t)[1]\n",
    "   # print(output,output_real,output_complex)\n",
    "    output_real.requires_grad_(True)\n",
    "    output_complex.requires_grad_(True)\n",
    "    dHdx_real = grad(output_real, x, grad_outputs = torch.ones_like(x), \n",
    "                    create_graph=True, retain_graph=True, \n",
    "                   only_inputs=True,\n",
    "                   allow_unused=True\n",
    "                  )[0]\n",
    "    d2Hdx2_real = grad(dHdx_real, x, grad_outputs = torch.ones_like(x), \n",
    "                    create_graph=True, retain_graph=True, \n",
    "                   only_inputs=True,\n",
    "                   allow_unused=True\n",
    "                  )[0]\n",
    "    dHdx_complex = grad(output_complex, x, grad_outputs = torch.ones_like(x), \n",
    "                    create_graph=True, retain_graph=True, \n",
    "                   only_inputs=True,\n",
    "                   allow_unused=True\n",
    "                  )[0]\n",
    "    d2Hdx2_complex = grad(dHdx_complex, x, grad_outputs = torch.ones_like(x), \n",
    "                    create_graph=True, retain_graph=True, \n",
    "                   only_inputs=True,\n",
    "                   allow_unused=True\n",
    "                  )[0]\n",
    "    return d2Hdx2_real, d2Hdx2_complex\n",
    "    \n",
    "    \n",
    "    \n",
    "    "
   ]
  },
  {
   "cell_type": "code",
   "execution_count": null,
   "metadata": {},
   "outputs": [],
   "source": [
    "def u_t(batch): \n",
    "    batch.requires_grad_(True)\n",
    "    x = batch[:,0]\n",
    "    x.requires_grad_(True)\n",
    "    t = batch[:,1]\n",
    "    t.requires_grad_(True)\n",
    "    output = init_wave_function(x,t)\n",
    "    output_real = init_wave_function(x,t)[0]\n",
    "    output_complex = init_wave_function(x,t)[1]\n",
    "   # print(output,output_real,output_complex)\n",
    "    output_real.requires_grad_(True)\n",
    "    output_complex.requires_grad_(True)\n",
    "    dHdt_real = grad(output_real, t, grad_outputs = torch.ones_like(t), \n",
    "                    create_graph=True, retain_graph=True, \n",
    "                   only_inputs=True,\n",
    "                   allow_unused=True\n",
    "                  )[0]\n",
    "    \n",
    "    dHdt_complex = grad(output_complex, t, grad_outputs = torch.ones_like(t), \n",
    "                    create_graph=True, retain_graph=True, \n",
    "                   only_inputs=True,\n",
    "                   allow_unused=True\n",
    "                  )[0]\n",
    "    \n",
    "    return dHdt_real, dHdt_complex\n",
    "    "
   ]
  },
  {
   "cell_type": "code",
   "execution_count": null,
   "metadata": {},
   "outputs": [],
   "source": [
    "potential = Potential()\n",
    "optimizer = torch.optim.Adam(potential.parameters(), lr = .0001)\n",
    "\n",
    "\n",
    "\n",
    "#Schrodinger\n",
    "#iu_t + u_xx + Vu =0 \n",
    "def Schrodinger(batch):\n",
    "    batch.requires_grad_(True)\n",
    "    potential_energy = potential(batch)\n",
    "    \n",
    "    x = batch[:,0]\n",
    "    x.requires_grad_(True)\n",
    "    t = batch[:,1]\n",
    "    t.requires_grad_(True)\n",
    "    output_real = init_wave_function(x,t)[0]\n",
    "    output_complex = init_wave_function(x,t)[1]\n",
    "   # print(output_real,output_complex)\n",
    "    real = -u_t(batch)[1] + u_xx(batch)[0] + potential_energy.squeeze()*output_real\n",
    "    complex1 = u_t(batch)[0] + u_xx(batch)[1] + potential_energy.squeeze()*output_complex\n",
    "   # print(real.shape,complex1.shape)\n",
    "    return real**2 + complex1**2\n",
    "    "
   ]
  },
  {
   "cell_type": "code",
   "execution_count": null,
   "metadata": {},
   "outputs": [],
   "source": [
    "potential"
   ]
  },
  {
   "cell_type": "code",
   "execution_count": null,
   "metadata": {},
   "outputs": [],
   "source": [
    "class MyDataset(Dataset):\n",
    "    def __init__(self, data, transform=None):\n",
    "        self.data = data.float()\n",
    "        self.transform = transform\n",
    "\n",
    "    def __getitem__(self, index):\n",
    "        x = self.data[index]\n",
    "        if self.transform:\n",
    "            x = self.transform(x)\n",
    "        return x\n",
    "\n",
    "    def __len__(self):\n",
    "        return len(self.data)"
   ]
  },
  {
   "cell_type": "code",
   "execution_count": null,
   "metadata": {},
   "outputs": [],
   "source": [
    "data = torch.rand(3000,2)\n",
    "dataset = MyDataset(data)\n",
    "loader = DataLoader(dataset, batch_size = 32, shuffle = True)"
   ]
  },
  {
   "cell_type": "code",
   "execution_count": null,
   "metadata": {},
   "outputs": [],
   "source": [
    "num_epochs = 1000\n",
    "loss = []\n",
    "\n",
    "for epoch in range(num_epochs):\n",
    "    for n_batch, batch in enumerate(loader):\n",
    "        n_data = Variable(batch, requires_grad=True)\n",
    "       \n",
    "       \n",
    "        error = Schrodinger(n_data).mean()\n",
    " \n",
    "        error.backward(retain_graph=True)\n",
    "      # torch.nn.utils.clip_grad_norm_(potential.parameters(), .9)\n",
    "       \n",
    "        optimizer.step()\n",
    "    loss.append(error)\n"
   ]
  },
  {
   "cell_type": "code",
   "execution_count": null,
   "metadata": {},
   "outputs": [],
   "source": [
    "X = torch.rand(100,2)\n",
    "x = X[:,0]\n",
    "t = X[:,1]"
   ]
  },
  {
   "cell_type": "code",
   "execution_count": null,
   "metadata": {},
   "outputs": [],
   "source": [
    "def ground(x,t):\n",
    "    return (2*sech(np.sqrt(2)*(x-(2*t)))*torch.cos(x+t))**2 + (2*sech(np.sqrt(2)*(x-(2*t)))*torch.sin(x+t))**2"
   ]
  },
  {
   "cell_type": "code",
   "execution_count": null,
   "metadata": {},
   "outputs": [],
   "source": [
    "torch.mean((potential(X)-ground(x,t))**2)/10"
   ]
  },
  {
   "cell_type": "code",
   "execution_count": null,
   "metadata": {},
   "outputs": [],
   "source": []
  }
 ],
 "metadata": {
  "kernelspec": {
   "display_name": "Python 3",
   "language": "python",
   "name": "python3"
  },
  "language_info": {
   "codemirror_mode": {
    "name": "ipython",
    "version": 3
   },
   "file_extension": ".py",
   "mimetype": "text/x-python",
   "name": "python",
   "nbconvert_exporter": "python",
   "pygments_lexer": "ipython3",
   "version": "3.7.6"
  }
 },
 "nbformat": 4,
 "nbformat_minor": 2
}
