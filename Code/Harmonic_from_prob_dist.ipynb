{
 "cells": [
  {
   "cell_type": "code",
   "execution_count": 1,
   "metadata": {},
   "outputs": [],
   "source": [
    "from __future__ import division\n",
    "import os, sys, time, random\n",
    "import math\n",
    "import scipy\n",
    "from scipy import constants\n",
    "import torch\n",
    "from torch import nn, optim\n",
    "from torch import autograd\n",
    "from torch.autograd import grad\n",
    "import autograd.numpy as np\n",
    "from torch.utils.data import Dataset, DataLoader\n",
    "from torch.autograd.variable import Variable\n",
    "from torchvision import transforms, datasets\n",
    "import matplotlib.pyplot as plt\n",
    "from torch.nn import functional as F\n",
    "from scipy.constants import pi"
   ]
  },
  {
   "cell_type": "code",
   "execution_count": 3,
   "metadata": {},
   "outputs": [],
   "source": [
    "class Potential(nn.Module):\n",
    "    def __init__(self):\n",
    "        super(Potential,self).__init__()\n",
    "        self.hidden0 = nn.Sequential(\n",
    "            nn.Linear(1,128),\n",
    "            nn.Tanh()\n",
    "        )\n",
    "#         self.hidden1 = nn.Sequential(\n",
    "#             nn.Linear(32,128),\n",
    "#             nn.Tanh()\n",
    "#         )\n",
    "        self.hidden1 = nn.Sequential(\n",
    "            nn.Linear(128,128),\n",
    "            nn.Tanh()\n",
    "        )\n",
    "        self.out = nn.Sequential(\n",
    "            nn.Linear(128,1),\n",
    "            nn.Sigmoid()\n",
    "        )\n",
    "        \n",
    "    def forward(self, x):\n",
    "        x = self.hidden0(x)\n",
    "        x = x + self.hidden1(x)\n",
    "#         x = x + self.hidden2(x)\n",
    "        x = 12.5*self.out(x)\n",
    "        return x"
   ]
  },
  {
   "cell_type": "code",
   "execution_count": 4,
   "metadata": {},
   "outputs": [],
   "source": [
    "#Wave function equation here\n",
    "\n",
    "def hermite(n,x):\n",
    "    if n==0:\n",
    "        return 1\n",
    "    elif n==1:\n",
    "        return 2*x\n",
    "    else:\n",
    "        return 2*x*hermite(n-1,x)-2*(n-1)*hermite(n-2,x) #recursion\n",
    "\n",
    "def harmonic(m,h,w,n,x):\n",
    "    #Normalization:\n",
    "    norm=((m*w)/(math.pi*h))**(1/4)\n",
    "    term1=(math.factorial(n))*(2**n)\n",
    "    term2=(hermite(n,x)/math.sqrt(term1))\n",
    "    expterms=(-1.0*m*w*x*x)/(2*h)\n",
    "    #print(norm*term2,expterms,x)\n",
    "    evalh=norm*term2*torch.exp(expterms)\n",
    "    \n",
    "    #print(norm,term1,term2,evalh)\n",
    "    return evalh \n",
    "def init_wave_function(x): \n",
    "    # Instead of the wave function return the probability distribution\n",
    "    #return harmonic(1,1,1,0,x)*harmonic(1,1,1,0,x)#This is the probability density, |Psi*Psi|**2 of the harmonic oscilator \n",
    "    return harmonic(1,1,1,2,x)*harmonic(1,1,1,2,x)\n",
    "\n"
   ]
  },
  {
   "cell_type": "code",
   "execution_count": 5,
   "metadata": {},
   "outputs": [],
   "source": [
    "potential = Potential()\n",
    "\n",
    "optimizer = torch.optim.Adam(potential.parameters(), lr = .001)\n",
    "\n",
    "\n",
    "def new_prob_dist(batch):\n",
    "    output = torch.sqrt(init_wave_function(batch))\n",
    "    output.requires_grad_(True)\n",
    "    potential_energy = potential(batch)\n",
    "   # potential_energy.requires_grad_(True)\n",
    "    first_der = grad(output, batch, grad_outputs = torch.ones_like(batch), \n",
    "                    create_graph=True, retain_graph=True, \n",
    "                   only_inputs=True,\n",
    "                   allow_unused=True\n",
    "                  )[0]\n",
    "    kinetic_energy = grad(first_der, batch, grad_outputs = torch.ones_like(batch), \n",
    "                    create_graph=True, retain_graph=True, \n",
    "                   only_inputs=True,\n",
    "                   allow_unused=True\n",
    "                  )[0]\n",
    "    conserve_energy = grad(kinetic_energy/(2*output) - potential_energy, batch, grad_outputs = torch.ones_like(batch), \n",
    "                    create_graph=True, retain_graph=True, \n",
    "                   only_inputs=True,\n",
    "                   allow_unused=True\n",
    "                  )[0]\n",
    "  \n",
    "    return conserve_energy  "
   ]
  },
  {
   "cell_type": "code",
   "execution_count": 6,
   "metadata": {},
   "outputs": [],
   "source": [
    "x_range = [-5,5]\n",
    "#Better to get from data\n",
    "def sample_x(size):\n",
    "    '''\n",
    "    Uniform random x sampling within range\n",
    "    '''\n",
    "    x = (x_range[0] - x_range[1]) * torch.rand(size,1) + x_range[1]\n",
    "    return x\n"
   ]
  },
  {
   "cell_type": "code",
   "execution_count": 7,
   "metadata": {},
   "outputs": [],
   "source": [
    "class MyDataset(Dataset):\n",
    "    def __init__(self, data, transform=None):\n",
    "        self.data = data.float()\n",
    "        self.transform = transform\n",
    "\n",
    "    def __getitem__(self, index):\n",
    "        x = self.data[index]\n",
    "        if self.transform:\n",
    "            x = self.transform(x)\n",
    "        return x\n",
    "\n",
    "    def __len__(self):\n",
    "        return len(self.data)"
   ]
  },
  {
   "cell_type": "code",
   "execution_count": 8,
   "metadata": {},
   "outputs": [],
   "source": [
    "data = sample_x(2500)\n",
    "dataset = MyDataset(data)\n",
    "loader = DataLoader(dataset, batch_size = 32, shuffle = True)"
   ]
  },
  {
   "cell_type": "code",
   "execution_count": 9,
   "metadata": {},
   "outputs": [],
   "source": [
    "num_epochs = 1000\n",
    "loss = []\n",
    "for epoch in range(num_epochs):\n",
    "    for n_batch, batch in enumerate(loader):\n",
    "        n_data = Variable(batch, requires_grad=True)\n",
    "        optimizer.zero_grad()\n",
    "      \n",
    "        total_energy = new_prob_dist(n_data)\n",
    "      \n",
    "        error = (total_energy**2).mean() + ((potential(n_data)-potential(-n_data))**2).mean()\n",
    "        \n",
    "        error.backward(retain_graph=True)\n",
    "        #error.backward()\n",
    "        optimizer.step()\n",
    "    loss.append(error)\n",
    " \n"
   ]
  },
  {
   "cell_type": "code",
   "execution_count": 11,
   "metadata": {},
   "outputs": [
    {
     "data": {
      "text/plain": [
       "<matplotlib.collections.PathCollection at 0x2b91ba9eae80>"
      ]
     },
     "execution_count": 11,
     "metadata": {},
     "output_type": "execute_result"
    },
    {
     "data": {
      "image/png": "[encoded data removed]",
      "text/plain": [
       "<Figure size 432x288 with 1 Axes>"
      ]
     },
     "metadata": {
      "needs_background": "light"
     },
     "output_type": "display_data"
    }
   ],
   "source": [
    "plt.scatter(data.detach().numpy(), potential(data).detach().numpy())"
   ]
  },
  {
   "cell_type": "code",
   "execution_count": 14,
   "metadata": {},
   "outputs": [],
   "source": [
    "#plt.scatter(data.detach().numpy(), pow((pow(data.detach().numpy(),2)-potential(data).detach().numpy()),2))\n",
    "torch.save(potential.state_dict(), 'potential_harmonic_oscillator_expt.pkl')\n",
    "#save the optimizer state too"
   ]
  },
  {
   "cell_type": "code",
   "execution_count": 12,
   "metadata": {},
   "outputs": [
    {
     "data": {
      "text/plain": [
       "<matplotlib.collections.PathCollection at 0x2b91baa7de48>"
      ]
     },
     "execution_count": 12,
     "metadata": {},
     "output_type": "execute_result"
    },
    {
     "data": {
      "image/png": "[encoded data removed]",
      "text/plain": [
       "<Figure size 432x288 with 1 Axes>"
      ]
     },
     "metadata": {
      "needs_background": "light"
     },
     "output_type": "display_data"
    }
   ],
   "source": [
    "plt.scatter(data.detach().numpy(), init_wave_function(data).detach().numpy())"
   ]
  },
  {
   "cell_type": "code",
   "execution_count": 13,
   "metadata": {},
   "outputs": [],
   "source": [
    "import matplotlib.pyplot as plt\n",
    "from matplotlib.pyplot import plot, title, show, xlabel, ylabel, legend\n"
   ]
  },
  {
   "cell_type": "code",
   "execution_count": 14,
   "metadata": {},
   "outputs": [
    {
     "data": {
      "image/png": "[encoded data removed]",
      "text/plain": [
       "<Figure size 432x288 with 1 Axes>"
      ]
     },
     "metadata": {
      "needs_background": "light"
     },
     "output_type": "display_data"
    }
   ],
   "source": [
    "plt.scatter(data.detach().numpy(),.5* pow(data.detach().numpy(),2))\n",
    "plt.scatter(data.detach().numpy(), potential(data).detach().numpy())\n",
    "title(\"potential\")\n",
    "legend(['Ground','Learned'])\n",
    "show()"
   ]
  },
  {
   "cell_type": "code",
   "execution_count": 18,
   "metadata": {},
   "outputs": [],
   "source": [
    "def learned_energy(batch):\n",
    "    batch.requires_grad_(True)\n",
    "    output = torch.sqrt(init_wave_function(batch))\n",
    "    output.requires_grad_(True)\n",
    "    potential_energy = potential(batch)\n",
    "   # potential_energy.requires_grad_(True)\n",
    "    first_der = grad(output, batch, grad_outputs = torch.ones_like(batch), \n",
    "                    create_graph=True, retain_graph=True, \n",
    "                   only_inputs=True,\n",
    "                   allow_unused=True\n",
    "                  )[0]\n",
    "    kinetic_energy = grad(first_der, batch, grad_outputs = torch.ones_like(batch), \n",
    "                    create_graph=True, retain_graph=True, \n",
    "                   only_inputs=True,\n",
    "                   allow_unused=True\n",
    "                  )[0]\n",
    "    energy = -kinetic_energy/(2*output) + potential_energy\n",
    "    \n",
    "    return energy"
   ]
  },
  {
   "cell_type": "code",
   "execution_count": 36,
   "metadata": {},
   "outputs": [
    {
     "data": {
      "image/png": "[encoded data removed]",
      "text/plain": [
       "<Figure size 432x288 with 1 Axes>"
      ]
     },
     "metadata": {},
     "output_type": "display_data"
    }
   ],
   "source": [
    "plt.scatter(data.detach().numpy(), (torch.ones_like(data)*2.5).numpy())\n",
    "plt.scatter(data.detach().numpy(), learned_energy(data).detach().numpy())\n",
    "title(\"Energy\")\n",
    "legend(['Ground','Learned'])\n",
    "show()"
   ]
  },
  {
   "cell_type": "markdown",
   "metadata": {},
   "source": [
    "Rest of the notebook can be ignored as it is just used to create pretty pictures."
   ]
  },
  {
   "cell_type": "code",
   "execution_count": 20,
   "metadata": {},
   "outputs": [],
   "source": [
    "plt.style.use('seaborn-darkgrid')\n",
    " \n",
    "# create a color palette\n",
    "palette = plt.get_cmap('Set1')"
   ]
  },
  {
   "cell_type": "code",
   "execution_count": 21,
   "metadata": {},
   "outputs": [],
   "source": [
    "x_coord = sample_x(4000)"
   ]
  },
  {
   "cell_type": "code",
   "execution_count": 22,
   "metadata": {},
   "outputs": [
    {
     "data": {
      "text/plain": [
       "array([[ 4.942854 ],\n",
       "       [-4.083021 ],\n",
       "       [-0.475945 ],\n",
       "       ...,\n",
       "       [ 2.1586604],\n",
       "       [ 4.4064994],\n",
       "       [ 1.3610935]], dtype=float32)"
      ]
     },
     "execution_count": 22,
     "metadata": {},
     "output_type": "execute_result"
    }
   ],
   "source": [
    "x_coord.detach().numpy()"
   ]
  },
  {
   "cell_type": "code",
   "execution_count": 23,
   "metadata": {},
   "outputs": [],
   "source": [
    "import pandas as pd"
   ]
  },
  {
   "cell_type": "code",
   "execution_count": 24,
   "metadata": {},
   "outputs": [
    {
     "data": {
      "text/plain": [
       "(array([0.23872107], dtype=float32), array([-0.46266174], dtype=float32))"
      ]
     },
     "execution_count": 24,
     "metadata": {},
     "output_type": "execute_result"
    }
   ],
   "source": [
    "learned_potential = potential.cpu()(x_coord).detach().numpy()\n",
    "learned_potential[3000],x_coord.detach().numpy()[3000]"
   ]
  },
  {
   "cell_type": "code",
   "execution_count": 25,
   "metadata": {},
   "outputs": [],
   "source": [
    "output=[]\n",
    "for i in range(0,len(learned_potential)):\n",
    "    output.append((x_coord.detach().numpy()[i][0],learned_potential[i][0]))"
   ]
  },
  {
   "cell_type": "code",
   "execution_count": 26,
   "metadata": {},
   "outputs": [],
   "source": [
    "sorted_output = sorted(output, key=lambda x: x[0])"
   ]
  },
  {
   "cell_type": "code",
   "execution_count": 27,
   "metadata": {},
   "outputs": [],
   "source": [
    "xsorted = []\n",
    "potsorted=[]\n",
    "for i in sorted_output:\n",
    "    xsorted.append(i[0])\n",
    "    potsorted.append(i[1])"
   ]
  },
  {
   "cell_type": "code",
   "execution_count": 28,
   "metadata": {},
   "outputs": [],
   "source": [
    "dictlearned={'x':xsorted,'potential_learned':potsorted}"
   ]
  },
  {
   "cell_type": "code",
   "execution_count": 29,
   "metadata": {},
   "outputs": [],
   "source": [
    "ground = .5* pow(x_coord.detach().numpy(),2)\n",
    "output_ground=[]\n",
    "for i in range(0,len(ground)):\n",
    "    output_ground.append((x_coord.detach().numpy()[i][0],ground[i][0]))\n",
    "sorted_ground = sorted(output_ground, key=lambda x: x[0])"
   ]
  },
  {
   "cell_type": "code",
   "execution_count": 30,
   "metadata": {},
   "outputs": [],
   "source": [
    "xgroundsorted = []\n",
    "potgroundsorted=[]\n",
    "for i in sorted_ground:\n",
    "    xgroundsorted.append(i[0])\n",
    "    potgroundsorted.append(i[1])"
   ]
  },
  {
   "cell_type": "code",
   "execution_count": 31,
   "metadata": {},
   "outputs": [],
   "source": [
    "dictplot= {'x':xsorted,'Learned Potential':potsorted, 'Ground Potential':potgroundsorted}"
   ]
  },
  {
   "cell_type": "code",
   "execution_count": 32,
   "metadata": {},
   "outputs": [],
   "source": [
    "df=pd.DataFrame(dictplot)"
   ]
  },
  {
   "cell_type": "code",
   "execution_count": 37,
   "metadata": {},
   "outputs": [
    {
     "data": {
      "image/png": "[encoded data removed]",
      "text/plain": [
       "<Figure size 576x360 with 1 Axes>"
      ]
     },
     "metadata": {},
     "output_type": "display_data"
    }
   ],
   "source": [
    "x = sample_x(200)\n",
    "fig = plt.figure(figsize=[8, 5])\n",
    "ax = fig.add_subplot()\n",
    "# ax.set_title('Ground and Learned Potentials')\n",
    "#ax.set_xlabel('Position')\n",
    "#ax.set_ylabel('Potential')\n",
    "plt.plot(xgroundsorted,potgroundsorted,color='b',linewidth=1.5)\n",
    "plt.scatter(x, potential.cpu()(x).detach().numpy(),color='g',linestyle='-',marker='o',linewidth=0.5)\n",
    "#plt.plot(xsorted,potsorted,color='g',linewidth='1',alpha=0.5)\n",
    "# Create an inset outside the axes\n",
    "# plt.suptitle(\"Ground and Learned Potentials\", fontsize=13, fontweight=0, color='black', style='italic')\n",
    "\n",
    "plt.legend(['Ground','Learned'],bbox_to_anchor=(0.1, 0.93), loc='upper left', borderaxespad=0.0)\n",
    "# Create an inset with a 2-tuple bounding box. Note that this creates a\n",
    "# bbox without extent. This hence only makes sense when specifying\n",
    "# width and height in absolute units (inches).\n",
    "# axins2 = inset_axes(ax, width=2, height=1.3,\n",
    "#                     bbox_to_anchor=(0.05, 0.55),\n",
    "#                     bbox_transform=ax.transAxes, loc=3, borderpad=1)\n",
    "\n",
    "# axins2.plot(xgroundsorted,potgroundsorted,label='Ground',color='b')\n",
    "# axins2.set_xlabel('Position')\n",
    "# axins2.set_ylabel('Potential')\n",
    "# axins2.set_title('Ground Potential')\n",
    "\n",
    "# axins3 = inset_axes(ax, width=2, height=1.3,\n",
    "#                     bbox_to_anchor=(0.39, 0.55),\n",
    "#                     bbox_transform=ax.transAxes, loc=3, borderpad=1)\n",
    "# axins3.plot(xgroundsorted,potsorted,label='Learned',color='g')\n",
    "# axins3.set_xlabel('Position')\n",
    "# axins3.set_ylabel('Potential')\n",
    "# axins3.set_title('Learned Potential')\n",
    "\n",
    "major_ticks_x = np.arange(-5, 5, 1)\n",
    "minor_ticks_x = np.arange(-5, 5, 1)\n",
    "major_ticks_y = np.arange(0, 13, 2)\n",
    "minor_ticks_y = np.arange(0, 13, 2)\n",
    "plt.rc('xtick', labelsize=18)    # fontsize of the tick labels\n",
    "plt.rc('ytick', labelsize=18) \n",
    "plt.rc('font', size=18)\n",
    "plt.rc('axes', titlesize=18) \n",
    "\n",
    "plt.tight_layout()\n",
    "plt.savefig('potential_from_dist.png',dpi=1200)\n"
   ]
  },
  {
   "cell_type": "code",
   "execution_count": null,
   "metadata": {},
   "outputs": [],
   "source": []
  }
 ],
 "metadata": {
  "kernelspec": {
   "display_name": "Python 3",
   "language": "python",
   "name": "python3"
  },
  "language_info": {
   "codemirror_mode": {
    "name": "ipython",
    "version": 3
   },
   "file_extension": ".py",
   "mimetype": "text/x-python",
   "name": "python",
   "nbconvert_exporter": "python",
   "pygments_lexer": "ipython3",
   "version": "3.7.6"
  }
 },
 "nbformat": 4,
 "nbformat_minor": 4
}
