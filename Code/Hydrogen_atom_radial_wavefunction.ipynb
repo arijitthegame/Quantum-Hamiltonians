{
 "cells": [
  {
   "cell_type": "code",
   "execution_count": 1,
   "metadata": {},
   "outputs": [],
   "source": [
    "from __future__ import division\n",
    "import os, sys, time, random\n",
    "import math\n",
    "import scipy\n",
    "from scipy import constants\n",
    "import torch\n",
    "from torch import nn, optim\n",
    "from torch import autograd\n",
    "from torch.autograd import grad\n",
    "import autograd.numpy as np\n",
    "from torch.utils.data import Dataset, DataLoader\n",
    "from torch.autograd.variable import Variable\n",
    "from torchvision import transforms, datasets\n",
    "import matplotlib.pyplot as plt\n",
    "from torch.nn import functional as F\n",
    "from scipy.constants import pi"
   ]
  },
  {
   "cell_type": "code",
   "execution_count": 2,
   "metadata": {},
   "outputs": [],
   "source": [
    "class Potential(nn.Module):\n",
    "    def __init__(self):\n",
    "        super(Potential,self).__init__()\n",
    "        self.hidden0 = nn.Sequential(\n",
    "            nn.Linear(1,128),\n",
    "            nn.Tanh()\n",
    "        )\n",
    "        self.hidden1 = nn.Sequential(\n",
    "            nn.Linear(128,128),\n",
    "            nn.Tanh()\n",
    "        )\n",
    "#         self.hidden2 = nn.Sequential(\n",
    "#             nn.Linear(128,128),\n",
    "#             nn.Tanh()\n",
    "#         )\n",
    "        self.out = nn.Sequential(\n",
    "            nn.Linear(128,1)\n",
    "           # nn.Sigmoid()\n",
    "        )\n",
    "        \n",
    "    def forward(self, x):\n",
    "        x = self.hidden0(x)\n",
    "        x = x + self.hidden1(x)\n",
    "#         x = x + self.hidden2(x)\n",
    "        x = self.out(x)\n",
    "        return x"
   ]
  },
  {
   "cell_type": "code",
   "execution_count": 3,
   "metadata": {},
   "outputs": [],
   "source": [
    "#Wave function equation here\n",
    "def psi_radial_2p(r):\n",
    "    a=(1/(8*np.sqrt(pi)))\n",
    "    return a* r**2 *torch.exp(-r/2) "
   ]
  },
  {
   "cell_type": "code",
   "execution_count": 4,
   "metadata": {},
   "outputs": [],
   "source": [
    "potential = Potential()\n",
    "\n",
    "optimizer = torch.optim.Adam(potential.parameters(), lr = .001)\n",
    "\n",
    "\n",
    "\n",
    "def new_prob_dist(batch):\n",
    "    output = psi_radial_2p(batch)\n",
    "    output.requires_grad_(True)\n",
    "    potential_energy = potential(batch)\n",
    "   # potential_energy.requires_grad_(True)\n",
    "    first_der = grad(output, batch, grad_outputs = torch.ones_like(batch), \n",
    "                    create_graph=True, retain_graph=True, \n",
    "                   only_inputs=True,\n",
    "                   allow_unused=True\n",
    "                  )[0]\n",
    "    kinetic_energy = grad(first_der, batch, grad_outputs = torch.ones_like(batch), \n",
    "                    create_graph=True, retain_graph=True, \n",
    "                   only_inputs=True,\n",
    "                   allow_unused=True\n",
    "                  )[0]\n",
    "    \n",
    "    conserve_energy = grad(kinetic_energy/(-2*output) + potential_energy, batch, grad_outputs = torch.ones_like(batch), \n",
    "                    create_graph=True, retain_graph=True, \n",
    "                   only_inputs=True,\n",
    "                   allow_unused=True\n",
    "                  )[0]\n",
    "\n",
    "    return conserve_energy\n",
    "      "
   ]
  },
  {
   "cell_type": "code",
   "execution_count": 19,
   "metadata": {},
   "outputs": [],
   "source": [
    "def learned_energy(batch):\n",
    "    batch.requires_grad_(True)\n",
    "    output = psi_radial_2p(batch)\n",
    "    output.requires_grad_(True)\n",
    "    potential_energy = potential(batch)\n",
    "  \n",
    "    first_der = grad(output, batch, grad_outputs = torch.ones_like(batch), \n",
    "                    create_graph=True, retain_graph=True, \n",
    "                   only_inputs=True,\n",
    "                   allow_unused=True\n",
    "                  )[0]\n",
    "    kinetic_energy = grad(first_der, batch, grad_outputs = torch.ones_like(batch), \n",
    "                    create_graph=True, retain_graph=True, \n",
    "                   only_inputs=True,\n",
    "                   allow_unused=True\n",
    "                  )[0]\n",
    "    \n",
    "    total_energy = -kinetic_energy/(2*output) + potential_energy\n",
    "    return total_energy\n",
    "      "
   ]
  },
  {
   "cell_type": "code",
   "execution_count": 20,
   "metadata": {},
   "outputs": [],
   "source": [
    "def ground_energy(batch):\n",
    "    batch.requires_grad_(True)\n",
    "    output = psi_radial_2p(batch)\n",
    "    output.requires_grad_(True)\n",
    "    potential_energy = -1/batch + 1/batch**2\n",
    "  \n",
    "    first_der = grad(output, batch, grad_outputs = torch.ones_like(batch), \n",
    "                    create_graph=True, retain_graph=True, \n",
    "                   only_inputs=True,\n",
    "                   allow_unused=True\n",
    "                  )[0]\n",
    "    kinetic_energy = grad(first_der, batch, grad_outputs = torch.ones_like(batch), \n",
    "                    create_graph=True, retain_graph=True, \n",
    "                   only_inputs=True,\n",
    "                   allow_unused=True\n",
    "                  )[0]\n",
    "    \n",
    "    total_energy = -kinetic_energy/(2*output) + potential_energy\n",
    "    return total_energy"
   ]
  },
  {
   "cell_type": "code",
   "execution_count": 7,
   "metadata": {},
   "outputs": [],
   "source": [
    "x_range = [.5,10]\n",
    "#Better to get from data\n",
    "def sample_x(size):\n",
    "    '''\n",
    "    Uniform random x sampling within range\n",
    "    '''\n",
    "    x = (x_range[0] - x_range[1]) * torch.rand(size,1) + x_range[1]\n",
    "    return x\n"
   ]
  },
  {
   "cell_type": "code",
   "execution_count": 8,
   "metadata": {},
   "outputs": [],
   "source": [
    "class MyDataset(Dataset):\n",
    "    def __init__(self, data, transform=None):\n",
    "        self.data = data.float()\n",
    "        self.transform = transform\n",
    "\n",
    "    def __getitem__(self, index):\n",
    "        x = self.data[index]\n",
    "        if self.transform:\n",
    "            x = self.transform(x)\n",
    "        return x\n",
    "\n",
    "    def __len__(self):\n",
    "        return len(self.data)"
   ]
  },
  {
   "cell_type": "code",
   "execution_count": 9,
   "metadata": {},
   "outputs": [],
   "source": [
    "data = sample_x(2500)\n",
    "dataset = MyDataset(data)\n",
    "loader = DataLoader(dataset, batch_size = 32, shuffle = True)"
   ]
  },
  {
   "cell_type": "code",
   "execution_count": 12,
   "metadata": {},
   "outputs": [],
   "source": [
    "num_epochs = 1000\n",
    "loss = []\n",
    "x = torch.tensor([1.0])\n",
    "for epoch in range(num_epochs):\n",
    "    for n_batch, batch in enumerate(loader):\n",
    "        n_data = Variable(batch, requires_grad=True)\n",
    "        optimizer.zero_grad()\n",
    "       \n",
    "        total_energy = new_prob_dist(n_data)\n",
    "     \n",
    "        error = (total_energy**2).sum() + potential(x)**2\n",
    "      \n",
    "        error.backward(retain_graph=True)\n",
    "     \n",
    "        optimizer.step()\n",
    "    loss.append(error)\n",
    "\n",
    "  \n"
   ]
  },
  {
   "cell_type": "code",
   "execution_count": 14,
   "metadata": {},
   "outputs": [
    {
     "data": {
      "text/plain": [
       "<matplotlib.collections.PathCollection at 0x12a400350>"
      ]
     },
     "execution_count": 14,
     "metadata": {},
     "output_type": "execute_result"
    },
    {
     "data": {
      "image/png": "[encoded data removed]",
      "text/plain": [
       "<Figure size 432x288 with 1 Axes>"
      ]
     },
     "metadata": {
      "needs_background": "light"
     },
     "output_type": "display_data"
    }
   ],
   "source": [
    "plt.scatter(data.detach().numpy(), potential(data).detach().numpy())"
   ]
  },
  {
   "cell_type": "code",
   "execution_count": 16,
   "metadata": {},
   "outputs": [],
   "source": [
    "import matplotlib.pyplot as plt\n",
    "from matplotlib.pyplot import plot, title, show, xlabel, ylabel, legend\n"
   ]
  },
  {
   "cell_type": "code",
   "execution_count": 18,
   "metadata": {},
   "outputs": [
    {
     "data": {
      "image/png": "[encoded data removed]",
      "text/plain": [
       "<Figure size 432x288 with 1 Axes>"
      ]
     },
     "metadata": {
      "needs_background": "light"
     },
     "output_type": "display_data"
    }
   ],
   "source": [
    "plt.scatter(data.detach().numpy(),-(1/data - 1/data**2).detach().numpy(), color = 'blue')\n",
    "plt.scatter(data.detach().numpy(), potential(data).detach().numpy(), color = 'gainsboro', alpha= .1, )\n",
    "title(\"potential\")\n",
    "legend(['Ground','Learned'])\n",
    "show()\n"
   ]
  },
  {
   "cell_type": "markdown",
   "metadata": {},
   "source": [
    "The rest of the notebook is devoted to generate the figures used in the main text. And can be ignored."
   ]
  },
  {
   "cell_type": "code",
   "execution_count": 25,
   "metadata": {},
   "outputs": [
    {
     "data": {
      "text/plain": [
       "(array([-0.12478889], dtype=float32), array([3.8781633], dtype=float32))"
      ]
     },
     "execution_count": 25,
     "metadata": {},
     "output_type": "execute_result"
    }
   ],
   "source": [
    "x_coord = sample_x(4000)\n",
    "learned_energy1 = learned_energy(x_coord).detach().numpy()\n",
    "learned_energy1[3000],x_coord.detach().numpy()[3000]"
   ]
  },
  {
   "cell_type": "code",
   "execution_count": 26,
   "metadata": {},
   "outputs": [],
   "source": [
    "ground_energy = ground_energy(x_coord).detach().numpy()"
   ]
  },
  {
   "cell_type": "code",
   "execution_count": 28,
   "metadata": {},
   "outputs": [],
   "source": [
    "output_en=[]\n",
    "for i in range(0,len(learned_energy1)):\n",
    "    output_en.append((x_coord.detach().numpy()[i][0],learned_energy1[i][0]))"
   ]
  },
  {
   "cell_type": "code",
   "execution_count": 29,
   "metadata": {},
   "outputs": [],
   "source": [
    "sorted_output_en = sorted(output_en, key=lambda x: x[0])"
   ]
  },
  {
   "cell_type": "code",
   "execution_count": 30,
   "metadata": {},
   "outputs": [],
   "source": [
    "xsorted = []\n",
    "en_sorted=[]\n",
    "for i in sorted_output_en:\n",
    "    xsorted.append(i[0])\n",
    "    en_sorted.append(i[1])"
   ]
  },
  {
   "cell_type": "code",
   "execution_count": 31,
   "metadata": {},
   "outputs": [],
   "source": [
    "dictlearned={'x':xsorted,'energy_learned':en_sorted}"
   ]
  },
  {
   "cell_type": "code",
   "execution_count": 32,
   "metadata": {},
   "outputs": [],
   "source": [
    "output_ground_en=[]\n",
    "for i in range(0,len(ground_energy)):\n",
    "    output_ground_en.append((x_coord.detach().numpy()[i][0],ground_energy[i][0]))\n",
    "sorted_ground_en = sorted(output_ground_en, key=lambda x: x[0])"
   ]
  },
  {
   "cell_type": "code",
   "execution_count": 33,
   "metadata": {},
   "outputs": [],
   "source": [
    "xgroundsorted = []\n",
    "engroundsorted=[]\n",
    "for i in sorted_ground_en:\n",
    "    xgroundsorted.append(i[0])\n",
    "    engroundsorted.append(i[1])"
   ]
  },
  {
   "cell_type": "code",
   "execution_count": 34,
   "metadata": {},
   "outputs": [],
   "source": [
    "dictplot= {'x':xsorted,'Learned Energy':en_sorted, 'Ground Energy':engroundsorted}"
   ]
  },
  {
   "cell_type": "code",
   "execution_count": 36,
   "metadata": {},
   "outputs": [],
   "source": [
    "import pandas as pd\n",
    "df=pd.DataFrame(dictplot)"
   ]
  },
  {
   "cell_type": "code",
   "execution_count": 59,
   "metadata": {},
   "outputs": [
    {
     "data": {
      "image/png": "[encoded data removed]",
      "text/plain": [
       "<Figure size 432x288 with 1 Axes>"
      ]
     },
     "metadata": {},
     "output_type": "display_data"
    }
   ],
   "source": [
    "plt.style.use('seaborn-darkgrid')\n",
    " \n",
    "# create a color palette\n",
    "palette = plt.get_cmap('Set1')\n",
    "x = sample_x(50)\n",
    "fig = plt.figure(figsize=[6, 4])\n",
    "ax = fig.add_subplot()\n",
    "# ax.set_title('Ground and Learned Potentials')\n",
    "#ax.set_xlabel('Position')\n",
    "#ax.set_ylabel('Potential')\n",
    "plt.plot(xgroundsorted,engroundsorted,color='b',linewidth=1.5)\n",
    "plt.scatter(x.detach().numpy(), learned_energy(x).detach().numpy(),color='g',linestyle='-',marker='o',linewidth=0.5)\n",
    "#plt.plot(xsorted,potsorted,color='g',linewidth='1',alpha=0.5)\n",
    "# Create an inset outside the axes\n",
    "# plt.suptitle(\"Ground and Learned Potentials\", fontsize=13, fontweight=0, color='black', style='italic')\n",
    "\n",
    "#plt.legend(['Ground','Learned'],bbox_to_anchor=(0.1, 0.93), loc='upper left', borderaxespad=0.0)\n",
    "# Create an inset with a 2-tuple bounding box. Note that this creates a\n",
    "# bbox without extent. This hence only makes sense when specifying\n",
    "# width and height in absolute units (inches).\n",
    "# axins2 = inset_axes(ax, width=2, height=1.3,\n",
    "#                     bbox_to_anchor=(0.05, 0.55),\n",
    "#                     bbox_transform=ax.transAxes, loc=3, borderpad=1)\n",
    "\n",
    "# axins2.plot(xgroundsorted,potgroundsorted,label='Ground',color='b')\n",
    "# axins2.set_xlabel('Position')\n",
    "# axins2.set_ylabel('Potential')\n",
    "# axins2.set_title('Ground Potential')\n",
    "\n",
    "# axins3 = inset_axes(ax, width=2, height=1.3,\n",
    "#                     bbox_to_anchor=(0.39, 0.55),\n",
    "#                     bbox_transform=ax.transAxes, loc=3, borderpad=1)\n",
    "# axins3.plot(xgroundsorted,potsorted,label='Learned',color='g')\n",
    "# axins3.set_xlabel('Position')\n",
    "# axins3.set_ylabel('Potential')\n",
    "# axins3.set_title('Learned Potential')\n",
    "\n",
    "major_ticks_x = np.arange(0, 10, 2)\n",
    "minor_ticks_x = np.arange(0, 10, 2)\n",
    "major_ticks_y = np.arange(-1, 1, .5)\n",
    "minor_ticks_y = np.arange(-1, 1, .5)\n",
    "plt.rc('xtick', labelsize=18)    # fontsize of the tick labels\n",
    "plt.rc('ytick', labelsize=18) \n",
    "plt.rc('font', size=18)\n",
    "plt.rc('axes', titlesize=18) \n",
    "\n",
    "ax.set_xticks(major_ticks_x)\n",
    "ax.set_xticks(minor_ticks_x, minor=True)\n",
    "ax.set_yticks(major_ticks_y)\n",
    "ax.set_yticks(minor_ticks_y, minor=True)\n",
    "plt.tight_layout()\n",
    "plt.savefig('energy_hydrogen.png',dpi=1200)"
   ]
  },
  {
   "cell_type": "code",
   "execution_count": 50,
   "metadata": {},
   "outputs": [
    {
     "data": {
      "text/plain": [
       "0.00030143437"
      ]
     },
     "execution_count": 50,
     "metadata": {},
     "output_type": "execute_result"
    }
   ],
   "source": [
    "np.sum((ground_energy-learned_energy1)**2)"
   ]
  },
  {
   "cell_type": "code",
   "execution_count": 54,
   "metadata": {},
   "outputs": [
    {
     "data": {
      "text/plain": [
       "0.00027451519538998205"
      ]
     },
     "execution_count": 54,
     "metadata": {},
     "output_type": "execute_result"
    }
   ],
   "source": [
    "#RMSE between energies (learned and ground)\n",
    "np.sqrt(0.00030143437)/np.sqrt(4000)"
   ]
  },
  {
   "cell_type": "code",
   "execution_count": 52,
   "metadata": {},
   "outputs": [
    {
     "data": {
      "text/plain": [
       "4000"
      ]
     },
     "execution_count": 52,
     "metadata": {},
     "output_type": "execute_result"
    }
   ],
   "source": [
    "ground_energy.size"
   ]
  },
  {
   "cell_type": "code",
   "execution_count": 61,
   "metadata": {},
   "outputs": [
    {
     "data": {
      "text/plain": [
       "<matplotlib.collections.PathCollection at 0x1235074d0>"
      ]
     },
     "execution_count": 61,
     "metadata": {},
     "output_type": "execute_result"
    },
    {
     "data": {
      "image/png": "[encoded data removed]",
      "text/plain": [
       "<Figure size 432x288 with 1 Axes>"
      ]
     },
     "metadata": {},
     "output_type": "display_data"
    }
   ],
   "source": [
    "x_coord = sample_x(4000)\n",
    "plt.scatter(x_coord, potential(x_coord).detach().numpy(),linestyle='-',marker='o')"
   ]
  },
  {
   "cell_type": "code",
   "execution_count": 62,
   "metadata": {},
   "outputs": [
    {
     "data": {
      "text/plain": [
       "array([[1.2644863],\n",
       "       [4.356927 ],\n",
       "       [5.1703577],\n",
       "       ...,\n",
       "       [8.95963  ],\n",
       "       [7.6283255],\n",
       "       [3.5895405]], dtype=float32)"
      ]
     },
     "execution_count": 62,
     "metadata": {},
     "output_type": "execute_result"
    }
   ],
   "source": [
    "x_coord.detach().numpy()"
   ]
  },
  {
   "cell_type": "code",
   "execution_count": 63,
   "metadata": {},
   "outputs": [],
   "source": [
    "import pandas as pd"
   ]
  },
  {
   "cell_type": "code",
   "execution_count": 64,
   "metadata": {},
   "outputs": [
    {
     "data": {
      "text/plain": [
       "(array([-0.09964125], dtype=float32), array([8.870874], dtype=float32))"
      ]
     },
     "execution_count": 64,
     "metadata": {},
     "output_type": "execute_result"
    }
   ],
   "source": [
    "learned_potential = potential(x_coord).detach().numpy()\n",
    "learned_potential[3000],x_coord.detach().numpy()[3000]\n"
   ]
  },
  {
   "cell_type": "code",
   "execution_count": 65,
   "metadata": {},
   "outputs": [],
   "source": [
    "output=[]\n",
    "for i in range(0,len(learned_potential)):\n",
    "    output.append((x_coord.detach().numpy()[i][0],learned_potential[i][0]))"
   ]
  },
  {
   "cell_type": "code",
   "execution_count": 66,
   "metadata": {},
   "outputs": [],
   "source": [
    "sorted_output = sorted(output, key=lambda x: x[0])"
   ]
  },
  {
   "cell_type": "code",
   "execution_count": 67,
   "metadata": {},
   "outputs": [],
   "source": [
    "xsorted = []\n",
    "potsorted=[]\n",
    "for i in sorted_output:\n",
    "    xsorted.append(i[0])\n",
    "    potsorted.append(i[1])"
   ]
  },
  {
   "cell_type": "code",
   "execution_count": 68,
   "metadata": {},
   "outputs": [],
   "source": [
    "dictlearned={'x':xsorted,'potential_learned':potsorted}"
   ]
  },
  {
   "cell_type": "code",
   "execution_count": 69,
   "metadata": {},
   "outputs": [],
   "source": [
    "ground = (1/(x_coord)**2 - 1/x_coord).detach().numpy()\n",
    "output_ground=[]\n",
    "for i in range(0,len(ground)):\n",
    "    output_ground.append((x_coord.detach().numpy()[i][0],ground[i][0]))\n",
    "sorted_ground = sorted(output_ground, key=lambda x: x[0])"
   ]
  },
  {
   "cell_type": "code",
   "execution_count": 70,
   "metadata": {},
   "outputs": [],
   "source": [
    "xgroundsorted = []\n",
    "potgroundsorted=[]\n",
    "for i in sorted_ground:\n",
    "    xgroundsorted.append(i[0])\n",
    "    potgroundsorted.append(i[1])"
   ]
  },
  {
   "cell_type": "code",
   "execution_count": 71,
   "metadata": {},
   "outputs": [],
   "source": [
    "dictplot= {'x':xsorted,'Learned Potential':potsorted, 'Ground Potential':potgroundsorted}"
   ]
  },
  {
   "cell_type": "code",
   "execution_count": 72,
   "metadata": {},
   "outputs": [],
   "source": [
    "df=pd.DataFrame(dictplot)"
   ]
  },
  {
   "cell_type": "code",
   "execution_count": 85,
   "metadata": {},
   "outputs": [
    {
     "data": {
      "image/png": "[encoded data removed]",
      "text/plain": [
       "<Figure size 504x360 with 1 Axes>"
      ]
     },
     "metadata": {},
     "output_type": "display_data"
    }
   ],
   "source": [
    "plt.style.use('seaborn-darkgrid')\n",
    " \n",
    "# create a color palette\n",
    "palette = plt.get_cmap('Set1')\n",
    "x = sample_x(100)\n",
    "fig = plt.figure(figsize=[7, 5])\n",
    "ax = fig.add_subplot()\n",
    "# ax.set_title('Ground and Learned Potentials')\n",
    "#ax.set_xlabel('Position')\n",
    "#ax.set_ylabel('Potential')\n",
    "plt.plot(xgroundsorted,potgroundsorted,color='b',linewidth=1.5)\n",
    "plt.scatter(x, -potential.cpu()(x).detach().numpy(),color='g',linestyle='-',marker='o',linewidth=0.5)\n",
    "#plt.plot(xsorted,potsorted,color='g',linewidth='1',alpha=0.5)\n",
    "# Create an inset outside the axes\n",
    "# plt.suptitle(\"Ground and Learned Potentials\", fontsize=13, fontweight=0, color='black', style='italic')\n",
    "\n",
    "#plt.legend(['Ground','Learned'],bbox_to_anchor=(0.1, 0.93), loc='upper left', borderaxespad=0.0)\n",
    "# Create an inset with a 2-tuple bounding box. Note that this creates a\n",
    "# bbox without extent. This hence only makes sense when specifying\n",
    "# width and height in absolute units (inches).\n",
    "# axins2 = inset_axes(ax, width=2, height=1.3,\n",
    "#                     bbox_to_anchor=(0.05, 0.55),\n",
    "#                     bbox_transform=ax.transAxes, loc=3, borderpad=1)\n",
    "\n",
    "# axins2.plot(xgroundsorted,potgroundsorted,label='Ground',color='b')\n",
    "# axins2.set_xlabel('Position')\n",
    "# axins2.set_ylabel('Potential')\n",
    "# axins2.set_title('Ground Potential')\n",
    "\n",
    "# axins3 = inset_axes(ax, width=2, height=1.3,\n",
    "#                     bbox_to_anchor=(0.39, 0.55),\n",
    "#                     bbox_transform=ax.transAxes, loc=3, borderpad=1)\n",
    "# axins3.plot(xgroundsorted,potsorted,label='Learned',color='g')\n",
    "# axins3.set_xlabel('Position')\n",
    "# axins3.set_ylabel('Potential')\n",
    "# axins3.set_title('Learned Potential')\n",
    "\n",
    "major_ticks_x = np.arange(0, 11, 2)\n",
    "minor_ticks_x = np.arange(0, 11, 2)\n",
    "major_ticks_y = np.arange(-1, 3, 1)\n",
    "minor_ticks_y = np.arange(-1, 3, 1)\n",
    "plt.rc('xtick', labelsize=18)    # fontsize of the tick labels\n",
    "plt.rc('ytick', labelsize=18) \n",
    "plt.rc('font', size=18)\n",
    "plt.rc('axes', titlesize=18) \n",
    "\n",
    "ax.set_xticks(major_ticks_x)\n",
    "ax.set_xticks(minor_ticks_x, minor=True)\n",
    "ax.set_yticks(major_ticks_y)\n",
    "ax.set_yticks(minor_ticks_y, minor=True)\n",
    "plt.tight_layout()\n",
    "plt.savefig('hydrogen_pot.png', dpi=1200)"
   ]
  },
  {
   "cell_type": "code",
   "execution_count": null,
   "metadata": {},
   "outputs": [],
   "source": []
  }
 ],
 "metadata": {
  "kernelspec": {
   "display_name": "Python 3",
   "language": "python",
   "name": "python3"
  },
  "language_info": {
   "codemirror_mode": {
    "name": "ipython",
    "version": 3
   },
   "file_extension": ".py",
   "mimetype": "text/x-python",
   "name": "python",
   "nbconvert_exporter": "python",
   "pygments_lexer": "ipython3",
   "version": "3.7.6"
  }
 },
 "nbformat": 4,
 "nbformat_minor": 4
}
