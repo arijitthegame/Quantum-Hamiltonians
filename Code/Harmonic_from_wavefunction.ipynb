{
 "cells": [
  {
   "cell_type": "code",
   "execution_count": 1,
   "metadata": {},
   "outputs": [],
   "source": [
    "from __future__ import division\n",
    "import os, sys, time, random\n",
    "import math\n",
    "import scipy\n",
    "from scipy import constants\n",
    "import torch\n",
    "from torch import nn, optim\n",
    "from torch import autograd\n",
    "from torch.autograd import grad\n",
    "import autograd.numpy as np\n",
    "from torch.utils.data import Dataset, DataLoader\n",
    "from torch.autograd.variable import Variable\n",
    "from torchvision import transforms, datasets\n",
    "import matplotlib.pyplot as plt\n",
    "from torch.nn import functional as F\n",
    "from scipy.constants import pi"
   ]
  },
  {
   "cell_type": "code",
   "execution_count": 3,
   "metadata": {},
   "outputs": [],
   "source": [
    "class Potential(nn.Module):\n",
    "    def __init__(self):\n",
    "        super(Potential,self).__init__()\n",
    "        self.hidden0 = nn.Sequential(\n",
    "            nn.Linear(1,128),\n",
    "            nn.Tanh()\n",
    "        )\n",
    "        self.hidden1 = nn.Sequential(\n",
    "            nn.Linear(128,128),\n",
    "            nn.Tanh()\n",
    "        )\n",
    "#         self.hidden2 = nn.Sequential(\n",
    "#             nn.Linear(128,128),\n",
    "#             nn.Tanh()\n",
    "#         )\n",
    "        self.out = nn.Sequential(\n",
    "            nn.Linear(128,1),\n",
    "            nn.Sigmoid()\n",
    "        )\n",
    "        \n",
    "    def forward(self, x):\n",
    "        x = self.hidden0(x)\n",
    "        x = x + self.hidden1(x)\n",
    "       # x = x + self.hidden2(x)\n",
    "        x = 12.5*self.out(x)\n",
    "        return x"
   ]
  },
  {
   "cell_type": "code",
   "execution_count": 4,
   "metadata": {},
   "outputs": [],
   "source": [
    "#Wave function equation here\n",
    "\n",
    "def hermite(n,x):\n",
    "    if n==0:\n",
    "        return 1\n",
    "    elif n==1:\n",
    "        return 2*x\n",
    "    else:\n",
    "        return 2*x*hermite(n-1,x)-2*(n-1)*hermite(n-2,x) #recursion\n",
    "\n",
    "def harmonic(m,h,w,n,x):\n",
    "    #Normalization:\n",
    "    norm=((m*w)/(math.pi*h))**(1/4)\n",
    "    term1=(math.factorial(n))*(2**n)\n",
    "    term2=(hermite(n,x)/math.sqrt(term1))\n",
    "    expterms=(-1.0*m*w*x*x)/(2*h)\n",
    "    #print(norm*term2,expterms,x)\n",
    "    evalh=norm*term2*torch.exp(expterms)\n",
    "    \n",
    "    #print(norm,term1,term2,evalh)\n",
    "    return evalh \n",
    "def init_wave_function(x): \n",
    "    #return harmonic(1,1,1,0,x)*harmonic(1,1,1,0,x)#This is the probability density, |Psi*Psi|**2 of the harmonic oscilator \n",
    "    return harmonic(1,1,1,2,x)\n",
    "\n"
   ]
  },
  {
   "cell_type": "code",
   "execution_count": 5,
   "metadata": {},
   "outputs": [],
   "source": [
    "potential = Potential()\n",
    "optimizer = torch.optim.Adam(potential.parameters(), lr = .001)\n",
    "\n",
    "def new_prob_dist(batch):\n",
    "    output = init_wave_function(batch)\n",
    "    output.requires_grad_(True)\n",
    "    potential_energy = potential(batch)\n",
    "   # potential_energy.requires_grad_(True)\n",
    "    first_der = grad(output, batch, grad_outputs = torch.ones_like(batch), \n",
    "                    create_graph=True, retain_graph=True, \n",
    "                   only_inputs=True,\n",
    "                   allow_unused=True\n",
    "                  )[0]\n",
    "    kinetic_energy = grad(first_der, batch, grad_outputs = torch.ones_like(batch), \n",
    "                    create_graph=True, retain_graph=True, \n",
    "                   only_inputs=True,\n",
    "                   allow_unused=True\n",
    "                  )[0]\n",
    "    conserve_energy = grad(kinetic_energy/(2*output) - potential_energy, batch, grad_outputs = torch.ones_like(batch), \n",
    "                    create_graph=True, retain_graph=True, \n",
    "                   only_inputs=True,\n",
    "                   allow_unused=True\n",
    "                  )[0]\n",
    "    return conserve_energy\n",
    "      "
   ]
  },
  {
   "cell_type": "code",
   "execution_count": 6,
   "metadata": {},
   "outputs": [],
   "source": [
    "x_range = [-5,5]\n",
    "#Better to get from data\n",
    "def sample_x(size):\n",
    "    '''\n",
    "    Uniform random x sampling within range\n",
    "    '''\n",
    "    x = (x_range[0] - x_range[1]) * torch.rand(size,1) + x_range[1]\n",
    "    return x\n"
   ]
  },
  {
   "cell_type": "code",
   "execution_count": 7,
   "metadata": {},
   "outputs": [],
   "source": [
    "class MyDataset(Dataset):\n",
    "    def __init__(self, data, transform=None):\n",
    "        self.data = data.float()\n",
    "        self.transform = transform\n",
    "\n",
    "    def __getitem__(self, index):\n",
    "        x = self.data[index]\n",
    "        if self.transform:\n",
    "            x = self.transform(x)\n",
    "        return x\n",
    "\n",
    "    def __len__(self):\n",
    "        return len(self.data)"
   ]
  },
  {
   "cell_type": "code",
   "execution_count": 8,
   "metadata": {},
   "outputs": [],
   "source": [
    "data = sample_x(2500)\n",
    "dataset = MyDataset(data)\n",
    "loader = DataLoader(dataset, batch_size = 32, shuffle = True)"
   ]
  },
  {
   "cell_type": "code",
   "execution_count": 9,
   "metadata": {},
   "outputs": [],
   "source": [
    "num_epochs = 2000\n",
    "loss = []\n",
    "for epoch in range(num_epochs):\n",
    "    for n_batch, batch in enumerate(loader):\n",
    "        n_data = Variable(batch, requires_grad=True)\n",
    "        optimizer.zero_grad()\n",
    "        \n",
    "        total_energy = new_prob_dist(n_data)\n",
    "        \n",
    "        error = (total_energy**2).sum()\n",
    "      \n",
    "        error.backward(retain_graph=True)\n",
    "        \n",
    "        optimizer.step()\n",
    "    loss.append(error)\n",
    "\n"
   ]
  },
  {
   "cell_type": "code",
   "execution_count": 12,
   "metadata": {},
   "outputs": [],
   "source": [
    "import matplotlib.pyplot as plt\n",
    "from matplotlib.pyplot import plot, title, show, xlabel, ylabel, legend\n"
   ]
  },
  {
   "cell_type": "code",
   "execution_count": 13,
   "metadata": {},
   "outputs": [
    {
     "data": {
      "image/png": "[encoded data removed]",
      "text/plain": [
       "<Figure size 432x288 with 1 Axes>"
      ]
     },
     "metadata": {
      "needs_background": "light"
     },
     "output_type": "display_data"
    }
   ],
   "source": [
    "x_test = sample_x(100)\n",
    "plt.scatter(data.detach().numpy(),.5* pow(data.detach().numpy(),2))\n",
    "plt.scatter(x_test.detach().numpy(), potential(x_test).detach().numpy())\n",
    "title(\"potential\")\n",
    "legend(['Ground','Learned'])\n",
    "show()"
   ]
  },
  {
   "cell_type": "code",
   "execution_count": null,
   "metadata": {},
   "outputs": [],
   "source": []
  }
 ],
 "metadata": {
  "kernelspec": {
   "display_name": "Python 3",
   "language": "python",
   "name": "python3"
  },
  "language_info": {
   "codemirror_mode": {
    "name": "ipython",
    "version": 3
   },
   "file_extension": ".py",
   "mimetype": "text/x-python",
   "name": "python",
   "nbconvert_exporter": "python",
   "pygments_lexer": "ipython3",
   "version": "3.7.6"
  }
 },
 "nbformat": 4,
 "nbformat_minor": 4
}
