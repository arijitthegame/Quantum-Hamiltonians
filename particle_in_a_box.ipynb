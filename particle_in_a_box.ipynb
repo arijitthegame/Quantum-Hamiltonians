{
 "cells": [
  {
   "cell_type": "code",
   "execution_count": 1,
   "metadata": {},
   "outputs": [],
   "source": [
    "from __future__ import division\n",
    "import os, sys, time, random\n",
    "import math\n",
    "import scipy\n",
    "from scipy import constants\n",
    "import torch\n",
    "from torch import nn, optim\n",
    "from torch import autograd\n",
    "from torch.autograd import grad\n",
    "import autograd.numpy as np\n",
    "from torch.utils.data import Dataset, DataLoader\n",
    "from torch.autograd.variable import Variable\n",
    "from torchvision import transforms, datasets\n",
    "import matplotlib.pyplot as plt\n",
    "from torch.nn import functional as F\n",
    "from scipy.constants import pi\n"
   ]
  },
  {
   "cell_type": "code",
   "execution_count": 2,
   "metadata": {},
   "outputs": [],
   "source": [
    "class Potential(nn.Module):\n",
    "    def __init__(self):\n",
    "        super(Potential,self).__init__()\n",
    "        self.hidden0 = nn.Sequential(\n",
    "            nn.Linear(1,128),\n",
    "            nn.Tanh()\n",
    "        )\n",
    "#         self.hidden1 = nn.Sequential(\n",
    "#             nn.Linear(32,128),\n",
    "#             nn.Tanh()\n",
    "#         )\n",
    "        self.hidden1 = nn.Sequential(\n",
    "            nn.Linear(128,128),\n",
    "           nn.Tanh()\n",
    "        )\n",
    "        self.out = nn.Sequential(\n",
    "            nn.Linear(128,1),\n",
    "            nn.Sigmoid()\n",
    "        )\n",
    "        \n",
    "    def forward(self, x):\n",
    "        x = self.hidden0(x)\n",
    "        x = x + self.hidden1(x)\n",
    "       # x = x + self.hidden2(x)\n",
    "        x = 10*self.out(x)\n",
    "        return x"
   ]
  },
  {
   "cell_type": "code",
   "execution_count": 3,
   "metadata": {},
   "outputs": [],
   "source": [
    "#Sigmoid in the output layer is causing issues\n",
    "class New_Dist(nn.Module): \n",
    "    def __init__(self):\n",
    "        super(New_Dist,self).__init__()\n",
    "        self.hidden0 = nn.Sequential(\n",
    "            nn.Linear(1,128),\n",
    "            nn.Tanh()\n",
    "        )\n",
    "#         self.hidden1 = nn.Sequential(\n",
    "#             nn.Linear(32,128),\n",
    "#             nn.Tanh()\n",
    "#         )\n",
    "        self.hidden1 = nn.Sequential(\n",
    "            nn.Linear(128,128),\n",
    "            nn.Tanh()\n",
    "        )\n",
    "        self.out = nn.Sequential(\n",
    "            nn.Linear(128,1)\n",
    "          )\n",
    "        \n",
    "    def forward(self, x):\n",
    "        x = self.hidden0(x)\n",
    "        x = x + self.hidden1(x)\n",
    "       # x = x + self.hidden2(x)\n",
    "        x = self.out(x)\n",
    "        return x"
   ]
  },
  {
   "cell_type": "code",
   "execution_count": 4,
   "metadata": {},
   "outputs": [],
   "source": [
    "hbar = 1\n",
    "m = 1\n",
    "# Define parameters of the system\n",
    "L = 1.0\n",
    "norm1 = 1.0074\n",
    "\n",
    "def psi0(n,x,L):  \n",
    "    A = np.sqrt(2./L)\n",
    "    kn = n*pi/L\n",
    "    #psi = A*torch.sin(kn*x)\n",
    "    psi = A*torch.sin(kn*x) \n",
    "    return psi\n",
    "\n",
    "def E0(n,L):  \n",
    "    kn = n*pi/L\n",
    "    E = (hbar*kn)**2/(2*m)\n",
    "    return E\n",
    "\n",
    "def vpert2(V0,x,L):\n",
    "    V = V0*((x/L)**2)\n",
    "    return V\n",
    "\n",
    "\n",
    "#V0=10\n",
    "def coeff(n,k,L):\n",
    "    x = np.arange(0,L,.001)\n",
    "    x = torch.from_numpy(x)\n",
    "    ck = torch.trapz(psi0(n,x,L)*vpert2(10,x,L)*psi0(k,x,L),x)/(E0(n,L)-E0(k,L))\n",
    "    return ck\n",
    "\n",
    "def psi_perturbed_torch(n,x,L,kmax):\n",
    "    psi_wperturbation = psi0(n,x,L) # Start off with the zeroth order wavefunction, with coefficient = 1\n",
    "    #print('psi0',psi_wperturbation)\n",
    "    ik = 0\n",
    "    for k in range(1,kmax):\n",
    "        if k==n:\n",
    "            pass\n",
    "        else:\n",
    "            ck = coeff(n,k,L)\n",
    "            #ck =torch.trapz(psi0(n,x,L)*V*psi0(k,x,L),x)/(E0(n,L)-E0(k,L)) # Calculate the coefficient for the kth 0-order eigenfunction\n",
    "            #Integral without x sampling points\n",
    "           # ck =torch.trapz(psi0(n,x,L)*V*psi0(k,x,L))/(E0(n,L)-E0(k,L)) # Calculate the coefficient for the kth 0-order eigenfunction\n",
    "            #print(ik,'k',k,'ck',ck,ck**2)\n",
    "            psi_wperturbation +=(ck*psi0(k,x,L)) # Add that contribution to the corrected eigenfunction, with appropriate coefficient\n",
    "        ik += 1\n",
    "# Normalize\n",
    "   # norm1 = torch.trapz(psi_wperturbation*psi_wperturbation,x) # Get <psi|psi> for the corrected eigenfunction \n",
    "   # psi_wperturbation = psi_wperturbation/norm1**.5 # Normalize this |psi>\n",
    "   # norm2 = torch.trapz(psi_wperturbation**2,x) # Just checking that the new <psi|psi> equals 1\n",
    "   # print (\"Old, new normalization:\", norm1, norm2) \n",
    "    #print(psi_wperturbation) \n",
    "    return psi_wperturbation/norm1"
   ]
  },
  {
   "cell_type": "code",
   "execution_count": 5,
   "metadata": {},
   "outputs": [],
   "source": [
    "n = 1\n",
    "kmax = 100\n",
    "V0 = 10"
   ]
  },
  {
   "cell_type": "code",
   "execution_count": 7,
   "metadata": {},
   "outputs": [],
   "source": [
    "potential = Potential()\n",
    "optimizer_p = torch.optim.Adam(potential.parameters(), lr = .001)\n",
    "#potential.load_state_dict(torch.load('PIB_working_confident.pkl'))\n",
    "#del_t = .001\n",
    "new_prob_dist = New_Dist()\n",
    "optimizer_d = torch.optim.Adam(new_prob_dist.parameters(), lr = .001)\n",
    "#new_prob_dist.load_state_dict(torch.load('perturbed_wave_confident_working.pkl'))\n"
   ]
  },
  {
   "cell_type": "code",
   "execution_count": 8,
   "metadata": {},
   "outputs": [],
   "source": [
    "def conserve_energy(batch):\n",
    "   # output = new_prob_dist(batch)\n",
    "    output = psi_perturbed_torch(1,batch,1, 100)\n",
    "   # output = torch.sqrt(output)\n",
    "    output.requires_grad_(True)\n",
    "    potential_energy = potential(batch)\n",
    "    potential_energy.requires_grad_(True)\n",
    "    first_der = grad(output, batch, grad_outputs = torch.ones_like(batch), \n",
    "                    create_graph=True, retain_graph=True, \n",
    "                  only_inputs=True,\n",
    "                   allow_unused=True\n",
    "                )[0]\n",
    "    kinetic_energy = grad(first_der, batch, grad_outputs = torch.ones_like(batch), \n",
    "                   create_graph=True, retain_graph=True, \n",
    "                   only_inputs=True,\n",
    "                   allow_unused=True\n",
    "                  )[0]\n",
    "    return grad((-np.sqrt(2)* pi * pi * torch.sin(pi*batch) + kinetic_energy)/(psi0(1,batch,1) + output)  - potential_energy, batch, grad_outputs = torch.ones_like(batch), \n",
    "                   create_graph=True, retain_graph=True, \n",
    "                   only_inputs=True,\n",
    "                   allow_unused=True\n",
    "                 )[0]\n"
   ]
  },
  {
   "cell_type": "code",
   "execution_count": 9,
   "metadata": {},
   "outputs": [],
   "source": [
    "x_range = [0,1]\n",
    "#Better to get from data\n",
    "def sample_x(size):\n",
    "    '''\n",
    "    Uniform random x sampling within range\n",
    "    '''\n",
    "    x = (x_range[0] - x_range[1]) * torch.rand(size,1) + x_range[1]\n",
    "    return x\n"
   ]
  },
  {
   "cell_type": "code",
   "execution_count": 10,
   "metadata": {},
   "outputs": [],
   "source": [
    "class MyDataset(Dataset):\n",
    "    def __init__(self, data, transform=None):\n",
    "        self.data = data.float()\n",
    "        self.transform = transform\n",
    "\n",
    "    def __getitem__(self, index):\n",
    "        x = self.data[index]\n",
    "        if self.transform:\n",
    "            x = self.transform(x)\n",
    "        return x\n",
    "\n",
    "    def __len__(self):\n",
    "        return len(self.data)"
   ]
  },
  {
   "cell_type": "code",
   "execution_count": 12,
   "metadata": {},
   "outputs": [],
   "source": [
    "data = sample_x(4000)\n",
    "dataset = MyDataset(data)\n",
    "loader = DataLoader(dataset, batch_size = 32, shuffle = True)"
   ]
  },
  {
   "cell_type": "code",
   "execution_count": null,
   "metadata": {},
   "outputs": [],
   "source": [
    "num_epochs = 1500\n",
    "loss = []\n",
    "for epoch in range(num_epochs):\n",
    "    for n_batch, batch in enumerate(loader):\n",
    "        n_data = Variable(batch, requires_grad=True)\n",
    "     \n",
    "        optimizer_p.zero_grad()\n",
    "        optimizer_d.zero_grad()\n",
    "        output = new_prob_dist(n_data)\n",
    "      \n",
    "        target = psi_perturbed_torch(1,n_data,1, 100)**2\n",
    "        energy = conserve_energy(n_data)\n",
    "        \n",
    "        error = ((output - target)**2).mean() + (energy**2).mean()\n",
    "       \n",
    "      \n",
    "        error.backward(retain_graph=True)\n",
    "        torch.nn.utils.clip_grad_norm_(potential.parameters(), .9)\n",
    "       \n",
    "        optimizer_p.step()\n",
    "        optimizer_d.step()\n",
    "  \n"
   ]
  },
  {
   "cell_type": "code",
   "execution_count": 16,
   "metadata": {},
   "outputs": [],
   "source": [
    "import matplotlib.pyplot as plt\n",
    "from matplotlib.pyplot import plot, title, show, xlabel, ylabel, legend\n"
   ]
  },
  {
   "cell_type": "code",
   "execution_count": 17,
   "metadata": {},
   "outputs": [
    {
     "data": {
      "image/png": "[encoded data removed]",
      "text/plain": [
       "<Figure size 432x288 with 1 Axes>"
      ]
     },
     "metadata": {
      "needs_background": "light"
     },
     "output_type": "display_data"
    }
   ],
   "source": [
    "plt.scatter(data.detach().numpy(), potential.cpu()(data).detach().numpy())\n",
    "plt.scatter(data.detach().numpy(), 10*pow(data,2).detach().numpy())\n",
    "plt.title(\"potential\")\n",
    "plt.legend(['Learned', 'ground'])\n",
    "plt.show()"
   ]
  },
  {
   "cell_type": "code",
   "execution_count": 25,
   "metadata": {},
   "outputs": [],
   "source": [
    "x = torch.rand(50,1)\n",
    "x.requires_grad_(True)\n",
    "y = new_prob_dist(x)"
   ]
  },
  {
   "cell_type": "code",
   "execution_count": 28,
   "metadata": {},
   "outputs": [
    {
     "data": {
      "image/png": "[encoded data removed]",
      "text/plain": [
       "<Figure size 432x288 with 1 Axes>"
      ]
     },
     "metadata": {
      "needs_background": "light"
     },
     "output_type": "display_data"
    }
   ],
   "source": [
    "plt.scatter(data.detach().numpy(), pow(psi_perturbed_torch(1,data,1, 100),2).detach().numpy(), color = 'red', alpha=.4)\n",
    "#plt.scatter(data.detach().numpy(), y.detach().numpy()*y.detach().numpy())\n",
    "plt.scatter(x.detach().numpy(), y.detach().numpy(), color = 'aqua')\n",
    "plt.scatter(data.detach().numpy(), pow(psi0(1,data,1).detach().numpy(),2), color = 'gainsboro', alpha= .1)\n",
    "plt.title(\"distributions\")\n",
    "plt.legend(['Ground','Learned', 'Initial'])\n",
    "plt.show()"
   ]
  },
  {
   "cell_type": "markdown",
   "metadata": {},
   "source": [
    "Rest of the notebook is dedicated to get the figures in the main text and can be ignored."
   ]
  },
  {
   "cell_type": "code",
   "execution_count": 13,
   "metadata": {},
   "outputs": [],
   "source": [
    "x_coord = sample_x(4000)\n"
   ]
  },
  {
   "cell_type": "code",
   "execution_count": 14,
   "metadata": {},
   "outputs": [
    {
     "data": {
      "text/plain": [
       "array([[0.39744735],\n",
       "       [0.6282222 ],\n",
       "       [0.64230704],\n",
       "       ...,\n",
       "       [0.5768469 ],\n",
       "       [0.13583994],\n",
       "       [0.06009287]], dtype=float32)"
      ]
     },
     "execution_count": 14,
     "metadata": {},
     "output_type": "execute_result"
    }
   ],
   "source": [
    "x_coord.detach().numpy()"
   ]
  },
  {
   "cell_type": "code",
   "execution_count": 15,
   "metadata": {},
   "outputs": [],
   "source": [
    "import pandas as pd"
   ]
  },
  {
   "cell_type": "code",
   "execution_count": 16,
   "metadata": {},
   "outputs": [
    {
     "data": {
      "text/plain": [
       "(array([0.23233134], dtype=float32), array([0.92628896], dtype=float32))"
      ]
     },
     "execution_count": 16,
     "metadata": {},
     "output_type": "execute_result"
    }
   ],
   "source": [
    "learned_wave = new_prob_dist(x_coord).detach().numpy()\n",
    "learned_wave[3000],x_coord.detach().numpy()[3000]"
   ]
  },
  {
   "cell_type": "code",
   "execution_count": 17,
   "metadata": {},
   "outputs": [],
   "source": [
    "output=[]\n",
    "for i in range(0,len(learned_wave)):\n",
    "    output.append((x_coord.detach().numpy()[i][0],learned_wave[i][0]))"
   ]
  },
  {
   "cell_type": "code",
   "execution_count": 18,
   "metadata": {},
   "outputs": [],
   "source": [
    "sorted_output = sorted(output, key=lambda x: x[0])"
   ]
  },
  {
   "cell_type": "code",
   "execution_count": 19,
   "metadata": {},
   "outputs": [],
   "source": [
    "xsorted = []\n",
    "wavesorted=[]\n",
    "for i in sorted_output:\n",
    "    xsorted.append(i[0])\n",
    "    wavesorted.append(i[1])"
   ]
  },
  {
   "cell_type": "code",
   "execution_count": 20,
   "metadata": {},
   "outputs": [],
   "source": [
    "dictlearned={'x':xsorted,'wave_learned':wavesorted}"
   ]
  },
  {
   "cell_type": "code",
   "execution_count": 114,
   "metadata": {},
   "outputs": [],
   "source": [
    "initial = psi0(1,x_coord,1).detach().numpy()\n",
    "output_initial=[]\n",
    "for i in range(0,len(initial)):\n",
    "    output_initial.append((x_coord.detach().numpy()[i][0],initial[i][0]))\n",
    "sorted_initial = sorted(output_initial, key=lambda x: x[0])"
   ]
  },
  {
   "cell_type": "code",
   "execution_count": 115,
   "metadata": {},
   "outputs": [],
   "source": [
    "perturbed = psi_perturbed_torch(1,x_coord,1, 100).detach().numpy()\n",
    "output_perturbed=[]\n",
    "for i in range(0,len(perturbed)):\n",
    "    output_perturbed.append((x_coord.detach().numpy()[i][0],perturbed[i][0]))\n",
    "sorted_perturbed = sorted(output_perturbed, key=lambda x: x[0])"
   ]
  },
  {
   "cell_type": "code",
   "execution_count": 116,
   "metadata": {},
   "outputs": [],
   "source": [
    "#dictplot= {'x':xsorted,'Learned Potential':potsorted, 'Ground Potential':potgroundsorted}"
   ]
  },
  {
   "cell_type": "code",
   "execution_count": 117,
   "metadata": {},
   "outputs": [],
   "source": [
    "x_initial=[]\n",
    "y_initial=[]\n",
    "for a in sorted_initial:\n",
    "    x_initial.append(a[0])\n",
    "    y_initial.append(a[1])"
   ]
  },
  {
   "cell_type": "code",
   "execution_count": 118,
   "metadata": {},
   "outputs": [],
   "source": [
    "x_perturb=[]\n",
    "y_perturb=[]\n",
    "for a in sorted_perturbed:\n",
    "    x_perturb.append(a[0])\n",
    "    y_perturb.append(a[1])"
   ]
  },
  {
   "cell_type": "code",
   "execution_count": 119,
   "metadata": {},
   "outputs": [
    {
     "data": {
      "text/plain": [
       "2"
      ]
     },
     "execution_count": 119,
     "metadata": {},
     "output_type": "execute_result"
    }
   ],
   "source": [
    "len(output_initial[0])"
   ]
  },
  {
   "cell_type": "code",
   "execution_count": 124,
   "metadata": {},
   "outputs": [
    {
     "data": {
      "image/png": "[encoded data removed]",
      "text/plain": [
       "<Figure size 576x360 with 1 Axes>"
      ]
     },
     "metadata": {},
     "output_type": "display_data"
    }
   ],
   "source": [
    "plt.style.use('seaborn-darkgrid')\n",
    " \n",
    "# create a color palette\n",
    "palette = plt.get_cmap('Set1')\n",
    "x = sample_x(100)\n",
    "fig = plt.figure(figsize=[8, 5])\n",
    "ax = fig.add_subplot()\n",
    "# ax.set_title('Ground and Learned Potentials')\n",
    "#ax.set_xlabel('Position')\n",
    "#ax.set_ylabel('Potential')\n",
    "plt.plot(x_initial,y_initial,color='b',linewidth=1.5)\n",
    "plt.plot(x_perturb,y_perturb, color='r', linewidth=1.5)\n",
    "plt.scatter(x, new_prob_dist.cpu()(x).detach().numpy(),color='g',linestyle='-',marker='o',linewidth=0.5)\n",
    "#plt.plot(xsorted,potsorted,color='g',linewidth='1',alpha=0.5)\n",
    "# Create an inset outside the axes\n",
    "# plt.suptitle(\"Ground and Learned Potentials\", fontsize=13, fontweight=0, color='black', style='italic')\n",
    "\n",
    "#plt.legend(['Initial','Perturbed','Learned'],bbox_to_anchor=(0.1, 0.93), loc='upper right', borderaxespad=0.0)\n",
    "plt.legend(['Initial','Perturbed','Learned'], loc='upper right', borderaxespad=0.0)\n",
    "# Create an inset with a 2-tuple bounding box. Note that this creates a\n",
    "# bbox without extent. This hence only makes sense when specifying\n",
    "# width and height in absolute units (inches).\n",
    "# axins2 = inset_axes(ax, width=2, height=1.3,\n",
    "#                     bbox_to_anchor=(0.05, 0.55),\n",
    "#                     bbox_transform=ax.transAxes, loc=3, borderpad=1)\n",
    "\n",
    "# axins2.plot(xgroundsorted,potgroundsorted,label='Ground',color='b')\n",
    "# axins2.set_xlabel('Position')\n",
    "# axins2.set_ylabel('Potential')\n",
    "# axins2.set_title('Ground Potential')\n",
    "\n",
    "# axins3 = inset_axes(ax, width=2, height=1.3,\n",
    "#                     bbox_to_anchor=(0.39, 0.55),\n",
    "#                     bbox_transform=ax.transAxes, loc=3, borderpad=1)\n",
    "# axins3.plot(xgroundsorted,potsorted,label='Learned',color='g')\n",
    "# axins3.set_xlabel('Position')\n",
    "# axins3.set_ylabel('Potential')\n",
    "# axins3.set_title('Learned Potential')\n",
    "\n",
    "major_ticks_x = np.arange(0, 1, .2)\n",
    "minor_ticks_x = np.arange(0, 1, .2)\n",
    "major_ticks_y = np.arange(0, 2, .4)\n",
    "minor_ticks_y = np.arange(0, 2, .4)\n",
    "plt.rc('xtick', labelsize=18)    # fontsize of the tick labels\n",
    "plt.rc('ytick', labelsize=18) \n",
    "plt.rc('font', size=18)\n",
    "plt.rc('axes', titlesize=18) \n",
    "\n",
    "ax.set_xticks(major_ticks_x)\n",
    "ax.set_xticks(minor_ticks_x, minor=True)\n",
    "ax.set_yticks(major_ticks_y)\n",
    "ax.set_yticks(minor_ticks_y, minor=True)\n",
    "plt.tight_layout()\n",
    "plt.savefig('PIB_wave_functions',dpi=1200)"
   ]
  },
  {
   "cell_type": "code",
   "execution_count": 64,
   "metadata": {},
   "outputs": [],
   "source": [
    "def learned_energy_function(batch):\n",
    "    batch.requires_grad_(True)\n",
    "    output = psi_perturbed_torch(1,batch,1, 100)\n",
    "   # output = torch.sqrt(output)\n",
    "    output.requires_grad_(True)\n",
    "    potential_energy = potential(batch)\n",
    "    potential_energy.requires_grad_(True)\n",
    "    first_der = grad(output, batch, grad_outputs = torch.ones_like(batch), \n",
    "                    create_graph=True, retain_graph=True, \n",
    "                  only_inputs=True,\n",
    "                   allow_unused=True\n",
    "                )[0]\n",
    "    kinetic_energy = grad(first_der, batch, grad_outputs = torch.ones_like(batch), \n",
    "                   create_graph=True, retain_graph=True, \n",
    "                   only_inputs=True,\n",
    "                   allow_unused=True\n",
    "                  )[0]\n",
    "    return (-np.sqrt(2)* pi * pi * torch.sin(pi*batch) + kinetic_energy)/(psi0(1,batch,1) + output)  - potential_energy\n",
    "\n",
    "\n"
   ]
  },
  {
   "cell_type": "code",
   "execution_count": 65,
   "metadata": {},
   "outputs": [],
   "source": [
    "def ground_energy(batch):\n",
    "    batch.requires_grad_(True)\n",
    "    output = psi_perturbed_torch(1,batch,1, 100)\n",
    "   # output = torch.sqrt(output)\n",
    "    output.requires_grad_(True)\n",
    "    potential_energy = 10*(batch)**2\n",
    "    potential_energy.requires_grad_(True)\n",
    "    first_der = grad(output, batch, grad_outputs = torch.ones_like(batch), \n",
    "                    create_graph=True, retain_graph=True, \n",
    "                  only_inputs=True,\n",
    "                   allow_unused=True\n",
    "                )[0]\n",
    "    kinetic_energy = grad(first_der, batch, grad_outputs = torch.ones_like(batch), \n",
    "                   create_graph=True, retain_graph=True, \n",
    "                   only_inputs=True,\n",
    "                   allow_unused=True\n",
    "                  )[0]\n",
    "    return (-np.sqrt(2)* pi * pi * torch.sin(pi*batch) + kinetic_energy)/(psi0(1,batch,1) + output) - potential_energy"
   ]
  },
  {
   "cell_type": "code",
   "execution_count": 66,
   "metadata": {},
   "outputs": [
    {
     "data": {
      "text/plain": [
       "(array([11.825728], dtype=float32), array([0.800378], dtype=float32))"
      ]
     },
     "execution_count": 66,
     "metadata": {},
     "output_type": "execute_result"
    }
   ],
   "source": [
    "x_coord = sample_x(4000)\n",
    "learned_energy1 = -learned_energy_function(x_coord).detach().numpy()\n",
    "learned_energy1[3000],x_coord.detach().numpy()[3000]"
   ]
  },
  {
   "cell_type": "code",
   "execution_count": 67,
   "metadata": {},
   "outputs": [],
   "source": [
    "ground_energy = -ground_energy(x_coord).detach().numpy()"
   ]
  },
  {
   "cell_type": "code",
   "execution_count": 68,
   "metadata": {},
   "outputs": [],
   "source": [
    "output_en=[]\n",
    "for i in range(0,len(learned_energy1)):\n",
    "    output_en.append((x_coord.detach().numpy()[i][0],learned_energy1[i][0]))"
   ]
  },
  {
   "cell_type": "code",
   "execution_count": 69,
   "metadata": {},
   "outputs": [],
   "source": [
    "sorted_output_en = sorted(output_en, key=lambda x: x[0])"
   ]
  },
  {
   "cell_type": "code",
   "execution_count": 70,
   "metadata": {},
   "outputs": [],
   "source": [
    "xsorted = []\n",
    "en_sorted=[]\n",
    "for i in sorted_output_en:\n",
    "    xsorted.append(i[0])\n",
    "    en_sorted.append(i[1])"
   ]
  },
  {
   "cell_type": "code",
   "execution_count": 71,
   "metadata": {},
   "outputs": [],
   "source": [
    "dictlearned={'x':xsorted,'energy_learned':en_sorted}"
   ]
  },
  {
   "cell_type": "code",
   "execution_count": 72,
   "metadata": {},
   "outputs": [],
   "source": [
    "output_ground_en=[]\n",
    "for i in range(0,len(ground_energy)):\n",
    "    output_ground_en.append((x_coord.detach().numpy()[i][0],ground_energy[i][0]))\n",
    "sorted_ground_en = sorted(output_ground_en, key=lambda x: x[0])"
   ]
  },
  {
   "cell_type": "code",
   "execution_count": 73,
   "metadata": {},
   "outputs": [],
   "source": [
    "xgroundsorted = []\n",
    "engroundsorted=[]\n",
    "for i in sorted_ground_en:\n",
    "    xgroundsorted.append(i[0])\n",
    "    engroundsorted.append(i[1])"
   ]
  },
  {
   "cell_type": "code",
   "execution_count": 74,
   "metadata": {},
   "outputs": [],
   "source": [
    "dictplot= {'x':xsorted,'Learned Energy':en_sorted, 'Ground Energy':engroundsorted}"
   ]
  },
  {
   "cell_type": "code",
   "execution_count": 75,
   "metadata": {},
   "outputs": [],
   "source": [
    "import pandas as pd\n",
    "df=pd.DataFrame(dictplot)"
   ]
  },
  {
   "cell_type": "code",
   "execution_count": 76,
   "metadata": {},
   "outputs": [
    {
     "data": {
      "image/png": "[encoded data removed]",
      "text/plain": [
       "<Figure size 432x288 with 1 Axes>"
      ]
     },
     "metadata": {},
     "output_type": "display_data"
    }
   ],
   "source": [
    "plt.style.use('seaborn-darkgrid')\n",
    " \n",
    "# create a color palette\n",
    "palette = plt.get_cmap('Set1')\n",
    "x = sample_x(50)\n",
    "fig = plt.figure(figsize=[6, 4])\n",
    "ax = fig.add_subplot()\n",
    "# ax.set_title('Ground and Learned Potentials')\n",
    "#ax.set_xlabel('Position')\n",
    "#ax.set_ylabel('Potential')\n",
    "plt.plot(xgroundsorted,engroundsorted,color='b',linewidth=1.5)\n",
    "plt.scatter(x.detach().numpy(), -learned_energy_function(x).detach().numpy(),color='g',linestyle='-',marker='o',linewidth=0.5)\n",
    "#plt.plot(xsorted,potsorted,color='g',linewidth='1',alpha=0.5)\n",
    "# Create an inset outside the axes\n",
    "# plt.suptitle(\"Ground and Learned Potentials\", fontsize=13, fontweight=0, color='black', style='italic')\n",
    "\n",
    "#plt.legend(['Ground','Learned'],bbox_to_anchor=(0.1, 0.93), loc='lower left', borderaxespad=0.0)\n",
    "plt.legend(['Ground','Learned'],loc='lower left', borderaxespad=0.0)\n",
    "# Create an inset with a 2-tuple bounding box. Note that this creates a\n",
    "# bbox without extent. This hence only makes sense when specifying\n",
    "# width and height in absolute units (inches).\n",
    "# axins2 = inset_axes(ax, width=2, height=1.3,\n",
    "#                     bbox_to_anchor=(0.05, 0.55),\n",
    "#                     bbox_transform=ax.transAxes, loc=3, borderpad=1)\n",
    "\n",
    "# axins2.plot(xgroundsorted,potgroundsorted,label='Ground',color='b')\n",
    "# axins2.set_xlabel('Position')\n",
    "# axins2.set_ylabel('Potential')\n",
    "# axins2.set_title('Ground Potential')\n",
    "\n",
    "# axins3 = inset_axes(ax, width=2, height=1.3,\n",
    "#                     bbox_to_anchor=(0.39, 0.55),\n",
    "#                     bbox_transform=ax.transAxes, loc=3, borderpad=1)\n",
    "# axins3.plot(xgroundsorted,potsorted,label='Learned',color='g')\n",
    "# axins3.set_xlabel('Position')\n",
    "# axins3.set_ylabel('Potential')\n",
    "# axins3.set_title('Learned Potential')\n",
    "\n",
    "major_ticks_x = np.arange(0, 1.1, .2)\n",
    "minor_ticks_x = np.arange(0, 1.1, .2)\n",
    "major_ticks_y = np.arange(8, 16, 2)\n",
    "minor_ticks_y = np.arange(8, 16, 2)\n",
    "plt.rc('xtick', labelsize=18)    # fontsize of the tick labels\n",
    "plt.rc('ytick', labelsize=18) \n",
    "plt.rc('font', size=18)\n",
    "plt.rc('axes', titlesize=18) \n",
    "\n",
    "ax.set_xticks(major_ticks_x)\n",
    "ax.set_xticks(minor_ticks_x, minor=True)\n",
    "ax.set_yticks(major_ticks_y)\n",
    "ax.set_yticks(minor_ticks_y, minor=True)\n",
    "plt.tight_layout()\n",
    "#plt.savefig('energy_PIB.png',dpi=1200)"
   ]
  },
  {
   "cell_type": "code",
   "execution_count": 49,
   "metadata": {},
   "outputs": [
    {
     "data": {
      "text/plain": [
       "tensor(0.1891, grad_fn=<MeanBackward0>)"
      ]
     },
     "execution_count": 49,
     "metadata": {},
     "output_type": "execute_result"
    }
   ],
   "source": [
    "x = torch.rand(100,1)\n",
    "torch.mean((potential(x)-(10*(x**2)))**2)"
   ]
  },
  {
   "cell_type": "code",
   "execution_count": 50,
   "metadata": {},
   "outputs": [
    {
     "data": {
      "text/plain": [
       "0.434856298103178"
      ]
     },
     "execution_count": 50,
     "metadata": {},
     "output_type": "execute_result"
    }
   ],
   "source": [
    "np.sqrt(.1891)"
   ]
  },
  {
   "cell_type": "code",
   "execution_count": 79,
   "metadata": {},
   "outputs": [
    {
     "data": {
      "text/plain": [
       "tensor(0.3032, grad_fn=<MeanBackward0>)"
      ]
     },
     "execution_count": 79,
     "metadata": {},
     "output_type": "execute_result"
    }
   ],
   "source": [
    "torch.mean((-learned_energy_function(x)-12.51435)**2)"
   ]
  },
  {
   "cell_type": "code",
   "execution_count": 80,
   "metadata": {},
   "outputs": [
    {
     "data": {
      "text/plain": [
       "0.5506359959174482"
      ]
     },
     "execution_count": 80,
     "metadata": {},
     "output_type": "execute_result"
    }
   ],
   "source": [
    "np.sqrt(.3032)"
   ]
  },
  {
   "cell_type": "code",
   "execution_count": null,
   "metadata": {},
   "outputs": [],
   "source": []
  }
 ],
 "metadata": {
  "kernelspec": {
   "display_name": "Python 3",
   "language": "python",
   "name": "python3"
  },
  "language_info": {
   "codemirror_mode": {
    "name": "ipython",
    "version": 3
   },
   "file_extension": ".py",
   "mimetype": "text/x-python",
   "name": "python",
   "nbconvert_exporter": "python",
   "pygments_lexer": "ipython3",
   "version": "3.7.6"
  }
 },
 "nbformat": 4,
 "nbformat_minor": 4
}
